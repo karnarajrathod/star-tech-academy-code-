{
  "cells": [
    {
      "cell_type": "markdown",
      "metadata": {
        "id": "view-in-github",
        "colab_type": "text"
      },
      "source": [
        "<a href=\"https://colab.research.google.com/github/karnarajrathod/star-tech-academy-code-/blob/main/Time_series_temperature_Shan_singh.ipynb\" target=\"_parent\"><img src=\"https://colab.research.google.com/assets/colab-badge.svg\" alt=\"Open In Colab\"/></a>"
      ]
    },
    {
      "cell_type": "code",
      "execution_count": 4,
      "id": "9d8bb50d",
      "metadata": {
        "id": "9d8bb50d"
      },
      "outputs": [],
      "source": []
    },
    {
      "cell_type": "code",
      "execution_count": 5,
      "id": "f484045f",
      "metadata": {
        "id": "f484045f"
      },
      "outputs": [],
      "source": [
        "## Importing necessary libraries..\n",
        "\n",
        "import pandas as pd\n",
        "import numpy as np\n",
        "import seaborn as sns\n",
        "import matplotlib.pyplot as plt"
      ]
    },
    {
      "cell_type": "code",
      "source": [
        "from google.colab import drive\n",
        "drive.mount('/content/drive')"
      ],
      "metadata": {
        "id": "HkoUJ8rtHCJI",
        "outputId": "03a47edb-ba7a-45e8-c589-243279fa1fcf",
        "colab": {
          "base_uri": "https://localhost:8080/"
        }
      },
      "id": "HkoUJ8rtHCJI",
      "execution_count": 6,
      "outputs": [
        {
          "output_type": "stream",
          "name": "stdout",
          "text": [
            "Drive already mounted at /content/drive; to attempt to forcibly remount, call drive.mount(\"/content/drive\", force_remount=True).\n"
          ]
        }
      ]
    },
    {
      "cell_type": "code",
      "execution_count": 42,
      "id": "8f266c04",
      "metadata": {
        "id": "8f266c04"
      },
      "outputs": [],
      "source": []
    },
    {
      "cell_type": "markdown",
      "id": "026c014b",
      "metadata": {
        "id": "026c014b"
      },
      "source": [
        "# 1.. Lets Pre-process our data\n",
        "    Let's read the data from the \"GlobalTemperatures.csv\" file, \n",
        "    which has a monthly Earth’s temperature and plot it on the \n",
        "    chart."
      ]
    },
    {
      "cell_type": "code",
      "execution_count": 7,
      "id": "3f9f0d9b",
      "metadata": {
        "id": "3f9f0d9b"
      },
      "outputs": [],
      "source": [
        "global_temp=pd.read_csv(r'/content/GlobalTemperatures.csv')"
      ]
    },
    {
      "cell_type": "code",
      "execution_count": 8,
      "id": "3bb4b0b3",
      "metadata": {
        "id": "3bb4b0b3",
        "outputId": "d2b6f408-42ad-4ae9-dd13-2bb3da82d534",
        "colab": {
          "base_uri": "https://localhost:8080/",
          "height": 260
        }
      },
      "outputs": [
        {
          "output_type": "execute_result",
          "data": {
            "text/plain": [
              "           dt  LandAverageTemperature  LandAverageTemperatureUncertainty  \\\n",
              "0  1750-01-01                   3.034                              3.574   \n",
              "1  1750-02-01                   3.083                              3.702   \n",
              "2  1750-03-01                   5.626                              3.076   \n",
              "\n",
              "   LandMaxTemperature  LandMaxTemperatureUncertainty  LandMinTemperature  \\\n",
              "0                 NaN                            NaN                 NaN   \n",
              "1                 NaN                            NaN                 NaN   \n",
              "2                 NaN                            NaN                 NaN   \n",
              "\n",
              "   LandMinTemperatureUncertainty  LandAndOceanAverageTemperature  \\\n",
              "0                            NaN                             NaN   \n",
              "1                            NaN                             NaN   \n",
              "2                            NaN                             NaN   \n",
              "\n",
              "   LandAndOceanAverageTemperatureUncertainty  \n",
              "0                                        NaN  \n",
              "1                                        NaN  \n",
              "2                                        NaN  "
            ],
            "text/html": [
              "\n",
              "  <div id=\"df-c211e11f-d400-481b-b7ba-0df4d77e4d9a\">\n",
              "    <div class=\"colab-df-container\">\n",
              "      <div>\n",
              "<style scoped>\n",
              "    .dataframe tbody tr th:only-of-type {\n",
              "        vertical-align: middle;\n",
              "    }\n",
              "\n",
              "    .dataframe tbody tr th {\n",
              "        vertical-align: top;\n",
              "    }\n",
              "\n",
              "    .dataframe thead th {\n",
              "        text-align: right;\n",
              "    }\n",
              "</style>\n",
              "<table border=\"1\" class=\"dataframe\">\n",
              "  <thead>\n",
              "    <tr style=\"text-align: right;\">\n",
              "      <th></th>\n",
              "      <th>dt</th>\n",
              "      <th>LandAverageTemperature</th>\n",
              "      <th>LandAverageTemperatureUncertainty</th>\n",
              "      <th>LandMaxTemperature</th>\n",
              "      <th>LandMaxTemperatureUncertainty</th>\n",
              "      <th>LandMinTemperature</th>\n",
              "      <th>LandMinTemperatureUncertainty</th>\n",
              "      <th>LandAndOceanAverageTemperature</th>\n",
              "      <th>LandAndOceanAverageTemperatureUncertainty</th>\n",
              "    </tr>\n",
              "  </thead>\n",
              "  <tbody>\n",
              "    <tr>\n",
              "      <th>0</th>\n",
              "      <td>1750-01-01</td>\n",
              "      <td>3.034</td>\n",
              "      <td>3.574</td>\n",
              "      <td>NaN</td>\n",
              "      <td>NaN</td>\n",
              "      <td>NaN</td>\n",
              "      <td>NaN</td>\n",
              "      <td>NaN</td>\n",
              "      <td>NaN</td>\n",
              "    </tr>\n",
              "    <tr>\n",
              "      <th>1</th>\n",
              "      <td>1750-02-01</td>\n",
              "      <td>3.083</td>\n",
              "      <td>3.702</td>\n",
              "      <td>NaN</td>\n",
              "      <td>NaN</td>\n",
              "      <td>NaN</td>\n",
              "      <td>NaN</td>\n",
              "      <td>NaN</td>\n",
              "      <td>NaN</td>\n",
              "    </tr>\n",
              "    <tr>\n",
              "      <th>2</th>\n",
              "      <td>1750-03-01</td>\n",
              "      <td>5.626</td>\n",
              "      <td>3.076</td>\n",
              "      <td>NaN</td>\n",
              "      <td>NaN</td>\n",
              "      <td>NaN</td>\n",
              "      <td>NaN</td>\n",
              "      <td>NaN</td>\n",
              "      <td>NaN</td>\n",
              "    </tr>\n",
              "  </tbody>\n",
              "</table>\n",
              "</div>\n",
              "      <button class=\"colab-df-convert\" onclick=\"convertToInteractive('df-c211e11f-d400-481b-b7ba-0df4d77e4d9a')\"\n",
              "              title=\"Convert this dataframe to an interactive table.\"\n",
              "              style=\"display:none;\">\n",
              "        \n",
              "  <svg xmlns=\"http://www.w3.org/2000/svg\" height=\"24px\"viewBox=\"0 0 24 24\"\n",
              "       width=\"24px\">\n",
              "    <path d=\"M0 0h24v24H0V0z\" fill=\"none\"/>\n",
              "    <path d=\"M18.56 5.44l.94 2.06.94-2.06 2.06-.94-2.06-.94-.94-2.06-.94 2.06-2.06.94zm-11 1L8.5 8.5l.94-2.06 2.06-.94-2.06-.94L8.5 2.5l-.94 2.06-2.06.94zm10 10l.94 2.06.94-2.06 2.06-.94-2.06-.94-.94-2.06-.94 2.06-2.06.94z\"/><path d=\"M17.41 7.96l-1.37-1.37c-.4-.4-.92-.59-1.43-.59-.52 0-1.04.2-1.43.59L10.3 9.45l-7.72 7.72c-.78.78-.78 2.05 0 2.83L4 21.41c.39.39.9.59 1.41.59.51 0 1.02-.2 1.41-.59l7.78-7.78 2.81-2.81c.8-.78.8-2.07 0-2.86zM5.41 20L4 18.59l7.72-7.72 1.47 1.35L5.41 20z\"/>\n",
              "  </svg>\n",
              "      </button>\n",
              "      \n",
              "  <style>\n",
              "    .colab-df-container {\n",
              "      display:flex;\n",
              "      flex-wrap:wrap;\n",
              "      gap: 12px;\n",
              "    }\n",
              "\n",
              "    .colab-df-convert {\n",
              "      background-color: #E8F0FE;\n",
              "      border: none;\n",
              "      border-radius: 50%;\n",
              "      cursor: pointer;\n",
              "      display: none;\n",
              "      fill: #1967D2;\n",
              "      height: 32px;\n",
              "      padding: 0 0 0 0;\n",
              "      width: 32px;\n",
              "    }\n",
              "\n",
              "    .colab-df-convert:hover {\n",
              "      background-color: #E2EBFA;\n",
              "      box-shadow: 0px 1px 2px rgba(60, 64, 67, 0.3), 0px 1px 3px 1px rgba(60, 64, 67, 0.15);\n",
              "      fill: #174EA6;\n",
              "    }\n",
              "\n",
              "    [theme=dark] .colab-df-convert {\n",
              "      background-color: #3B4455;\n",
              "      fill: #D2E3FC;\n",
              "    }\n",
              "\n",
              "    [theme=dark] .colab-df-convert:hover {\n",
              "      background-color: #434B5C;\n",
              "      box-shadow: 0px 1px 3px 1px rgba(0, 0, 0, 0.15);\n",
              "      filter: drop-shadow(0px 1px 2px rgba(0, 0, 0, 0.3));\n",
              "      fill: #FFFFFF;\n",
              "    }\n",
              "  </style>\n",
              "\n",
              "      <script>\n",
              "        const buttonEl =\n",
              "          document.querySelector('#df-c211e11f-d400-481b-b7ba-0df4d77e4d9a button.colab-df-convert');\n",
              "        buttonEl.style.display =\n",
              "          google.colab.kernel.accessAllowed ? 'block' : 'none';\n",
              "\n",
              "        async function convertToInteractive(key) {\n",
              "          const element = document.querySelector('#df-c211e11f-d400-481b-b7ba-0df4d77e4d9a');\n",
              "          const dataTable =\n",
              "            await google.colab.kernel.invokeFunction('convertToInteractive',\n",
              "                                                     [key], {});\n",
              "          if (!dataTable) return;\n",
              "\n",
              "          const docLinkHtml = 'Like what you see? Visit the ' +\n",
              "            '<a target=\"_blank\" href=https://colab.research.google.com/notebooks/data_table.ipynb>data table notebook</a>'\n",
              "            + ' to learn more about interactive tables.';\n",
              "          element.innerHTML = '';\n",
              "          dataTable['output_type'] = 'display_data';\n",
              "          await google.colab.output.renderOutput(dataTable, element);\n",
              "          const docLink = document.createElement('div');\n",
              "          docLink.innerHTML = docLinkHtml;\n",
              "          element.appendChild(docLink);\n",
              "        }\n",
              "      </script>\n",
              "    </div>\n",
              "  </div>\n",
              "  "
            ]
          },
          "metadata": {},
          "execution_count": 8
        }
      ],
      "source": [
        "global_temp.head(3)"
      ]
    },
    {
      "cell_type": "markdown",
      "id": "75aa8ffe",
      "metadata": {
        "id": "75aa8ffe"
      },
      "source": [
        "### how to clean/prepare/pre-process data :\n",
        "    a.. remove duplicate rows\n",
        "    b.. remove irrelevant data.\n",
        "    c.. Fix structural errors.\n",
        "    d.. check missing values in data\n",
        "    e.. check data-type of each feature is right or not..\n",
        "    f.. deal with the outliers"
      ]
    },
    {
      "cell_type": "code",
      "execution_count": 9,
      "id": "d263ef6c",
      "metadata": {
        "id": "d263ef6c",
        "outputId": "7f73073a-bcaf-4e0f-bd3d-e1755c6c7655",
        "colab": {
          "base_uri": "https://localhost:8080/"
        }
      },
      "outputs": [
        {
          "output_type": "execute_result",
          "data": {
            "text/plain": [
              "0"
            ]
          },
          "metadata": {},
          "execution_count": 9
        }
      ],
      "source": [
        "global_temp.duplicated().sum()\n",
        "\n",
        "### ie no duplicated observations we have !"
      ]
    },
    {
      "cell_type": "code",
      "execution_count": 10,
      "id": "9f5105fc",
      "metadata": {
        "id": "9f5105fc",
        "outputId": "ef90c2ad-13f0-4ccc-b759-cd3cdc5624a5",
        "colab": {
          "base_uri": "https://localhost:8080/"
        }
      },
      "outputs": [
        {
          "output_type": "execute_result",
          "data": {
            "text/plain": [
              "dt                                            object\n",
              "LandAverageTemperature                       float64\n",
              "LandAverageTemperatureUncertainty            float64\n",
              "LandMaxTemperature                           float64\n",
              "LandMaxTemperatureUncertainty                float64\n",
              "LandMinTemperature                           float64\n",
              "LandMinTemperatureUncertainty                float64\n",
              "LandAndOceanAverageTemperature               float64\n",
              "LandAndOceanAverageTemperatureUncertainty    float64\n",
              "dtype: object"
            ]
          },
          "metadata": {},
          "execution_count": 10
        }
      ],
      "source": [
        "global_temp.dtypes"
      ]
    },
    {
      "cell_type": "code",
      "execution_count": 11,
      "id": "dea41310",
      "metadata": {
        "id": "dea41310",
        "outputId": "b161e766-03bd-49ed-8093-295cdea090e3",
        "colab": {
          "base_uri": "https://localhost:8080/",
          "height": 70
        }
      },
      "outputs": [
        {
          "output_type": "execute_result",
          "data": {
            "text/plain": [
              "'\\nin date-time , we have 2 data-type (datetime64[ns]) and (<M8[ns])\\ndatetime64[ns] is a general dtype, while <M8[ns] is a specific dtype ,\\nns is basicaly nano second..\\nBoth are similar , it entirely how your numpy was compiled..\\n\\n'"
            ],
            "application/vnd.google.colaboratory.intrinsic+json": {
              "type": "string"
            }
          },
          "metadata": {},
          "execution_count": 11
        }
      ],
      "source": [
        "### date-type of 'dt' must be 'Date-time' bcz it holds date-time values..\n",
        "\n",
        "'''\n",
        "in date-time , we have 2 data-type (datetime64[ns]) and (<M8[ns])\n",
        "datetime64[ns] is a general dtype, while <M8[ns] is a specific dtype ,\n",
        "ns is basicaly nano second..\n",
        "Both are similar , it entirely how your numpy was compiled..\n",
        "\n",
        "'''"
      ]
    },
    {
      "cell_type": "code",
      "execution_count": 12,
      "id": "3eb346ad",
      "metadata": {
        "id": "3eb346ad",
        "outputId": "88105fb5-3ceb-4cc7-8eda-9d5cb7a60d89",
        "colab": {
          "base_uri": "https://localhost:8080/",
          "height": 35
        }
      },
      "outputs": [
        {
          "output_type": "execute_result",
          "data": {
            "text/plain": [
              "'1750-01-01'"
            ],
            "application/vnd.google.colaboratory.intrinsic+json": {
              "type": "string"
            }
          },
          "metadata": {},
          "execution_count": 12
        }
      ],
      "source": [
        "global_temp['dt'][0]"
      ]
    },
    {
      "cell_type": "code",
      "execution_count": 13,
      "id": "8824909c",
      "metadata": {
        "id": "8824909c"
      },
      "outputs": [],
      "source": [
        "global_temp['dt']=pd.to_datetime(global_temp['dt'])"
      ]
    },
    {
      "cell_type": "code",
      "execution_count": 14,
      "id": "759409e3",
      "metadata": {
        "id": "759409e3",
        "outputId": "28579c70-14f5-44f6-ea84-cba9cff21ad8",
        "colab": {
          "base_uri": "https://localhost:8080/"
        }
      },
      "outputs": [
        {
          "output_type": "execute_result",
          "data": {
            "text/plain": [
              "dtype('<M8[ns]')"
            ]
          },
          "metadata": {},
          "execution_count": 14
        }
      ],
      "source": [
        "global_temp['dt'].dtype"
      ]
    },
    {
      "cell_type": "code",
      "execution_count": 15,
      "id": "745f87a3",
      "metadata": {
        "id": "745f87a3",
        "outputId": "592cf4a7-69b8-4714-82a8-9177906f0870",
        "colab": {
          "base_uri": "https://localhost:8080/"
        }
      },
      "outputs": [
        {
          "output_type": "execute_result",
          "data": {
            "text/plain": [
              "Timestamp('1750-01-01 00:00:00')"
            ]
          },
          "metadata": {},
          "execution_count": 15
        }
      ],
      "source": [
        "global_temp['dt'][0]"
      ]
    },
    {
      "cell_type": "code",
      "execution_count": 42,
      "id": "cca54400",
      "metadata": {
        "id": "cca54400"
      },
      "outputs": [],
      "source": []
    },
    {
      "cell_type": "markdown",
      "id": "4082ad70",
      "metadata": {
        "id": "4082ad70"
      },
      "source": [
        "# 2.. Does Global Warming exists ?"
      ]
    },
    {
      "cell_type": "code",
      "execution_count": 16,
      "id": "5d591720",
      "metadata": {
        "id": "5d591720"
      },
      "outputs": [],
      "source": [
        "\n",
        "## extracting year from the 'dt' feature..\n",
        "global_temp['years']=global_temp['dt'].dt.year"
      ]
    },
    {
      "cell_type": "code",
      "execution_count": 17,
      "id": "58d70465",
      "metadata": {
        "id": "58d70465",
        "outputId": "03e20a9f-45be-4541-94d8-737f8e827eea",
        "colab": {
          "base_uri": "https://localhost:8080/",
          "height": 211
        }
      },
      "outputs": [
        {
          "output_type": "execute_result",
          "data": {
            "text/plain": [
              "          dt  LandAverageTemperature  LandAverageTemperatureUncertainty  \\\n",
              "0 1750-01-01                   3.034                              3.574   \n",
              "1 1750-02-01                   3.083                              3.702   \n",
              "\n",
              "   LandMaxTemperature  LandMaxTemperatureUncertainty  LandMinTemperature  \\\n",
              "0                 NaN                            NaN                 NaN   \n",
              "1                 NaN                            NaN                 NaN   \n",
              "\n",
              "   LandMinTemperatureUncertainty  LandAndOceanAverageTemperature  \\\n",
              "0                            NaN                             NaN   \n",
              "1                            NaN                             NaN   \n",
              "\n",
              "   LandAndOceanAverageTemperatureUncertainty  years  \n",
              "0                                        NaN   1750  \n",
              "1                                        NaN   1750  "
            ],
            "text/html": [
              "\n",
              "  <div id=\"df-62a2d7c3-1dc3-4ec0-97f4-44d24d6c27ef\">\n",
              "    <div class=\"colab-df-container\">\n",
              "      <div>\n",
              "<style scoped>\n",
              "    .dataframe tbody tr th:only-of-type {\n",
              "        vertical-align: middle;\n",
              "    }\n",
              "\n",
              "    .dataframe tbody tr th {\n",
              "        vertical-align: top;\n",
              "    }\n",
              "\n",
              "    .dataframe thead th {\n",
              "        text-align: right;\n",
              "    }\n",
              "</style>\n",
              "<table border=\"1\" class=\"dataframe\">\n",
              "  <thead>\n",
              "    <tr style=\"text-align: right;\">\n",
              "      <th></th>\n",
              "      <th>dt</th>\n",
              "      <th>LandAverageTemperature</th>\n",
              "      <th>LandAverageTemperatureUncertainty</th>\n",
              "      <th>LandMaxTemperature</th>\n",
              "      <th>LandMaxTemperatureUncertainty</th>\n",
              "      <th>LandMinTemperature</th>\n",
              "      <th>LandMinTemperatureUncertainty</th>\n",
              "      <th>LandAndOceanAverageTemperature</th>\n",
              "      <th>LandAndOceanAverageTemperatureUncertainty</th>\n",
              "      <th>years</th>\n",
              "    </tr>\n",
              "  </thead>\n",
              "  <tbody>\n",
              "    <tr>\n",
              "      <th>0</th>\n",
              "      <td>1750-01-01</td>\n",
              "      <td>3.034</td>\n",
              "      <td>3.574</td>\n",
              "      <td>NaN</td>\n",
              "      <td>NaN</td>\n",
              "      <td>NaN</td>\n",
              "      <td>NaN</td>\n",
              "      <td>NaN</td>\n",
              "      <td>NaN</td>\n",
              "      <td>1750</td>\n",
              "    </tr>\n",
              "    <tr>\n",
              "      <th>1</th>\n",
              "      <td>1750-02-01</td>\n",
              "      <td>3.083</td>\n",
              "      <td>3.702</td>\n",
              "      <td>NaN</td>\n",
              "      <td>NaN</td>\n",
              "      <td>NaN</td>\n",
              "      <td>NaN</td>\n",
              "      <td>NaN</td>\n",
              "      <td>NaN</td>\n",
              "      <td>1750</td>\n",
              "    </tr>\n",
              "  </tbody>\n",
              "</table>\n",
              "</div>\n",
              "      <button class=\"colab-df-convert\" onclick=\"convertToInteractive('df-62a2d7c3-1dc3-4ec0-97f4-44d24d6c27ef')\"\n",
              "              title=\"Convert this dataframe to an interactive table.\"\n",
              "              style=\"display:none;\">\n",
              "        \n",
              "  <svg xmlns=\"http://www.w3.org/2000/svg\" height=\"24px\"viewBox=\"0 0 24 24\"\n",
              "       width=\"24px\">\n",
              "    <path d=\"M0 0h24v24H0V0z\" fill=\"none\"/>\n",
              "    <path d=\"M18.56 5.44l.94 2.06.94-2.06 2.06-.94-2.06-.94-.94-2.06-.94 2.06-2.06.94zm-11 1L8.5 8.5l.94-2.06 2.06-.94-2.06-.94L8.5 2.5l-.94 2.06-2.06.94zm10 10l.94 2.06.94-2.06 2.06-.94-2.06-.94-.94-2.06-.94 2.06-2.06.94z\"/><path d=\"M17.41 7.96l-1.37-1.37c-.4-.4-.92-.59-1.43-.59-.52 0-1.04.2-1.43.59L10.3 9.45l-7.72 7.72c-.78.78-.78 2.05 0 2.83L4 21.41c.39.39.9.59 1.41.59.51 0 1.02-.2 1.41-.59l7.78-7.78 2.81-2.81c.8-.78.8-2.07 0-2.86zM5.41 20L4 18.59l7.72-7.72 1.47 1.35L5.41 20z\"/>\n",
              "  </svg>\n",
              "      </button>\n",
              "      \n",
              "  <style>\n",
              "    .colab-df-container {\n",
              "      display:flex;\n",
              "      flex-wrap:wrap;\n",
              "      gap: 12px;\n",
              "    }\n",
              "\n",
              "    .colab-df-convert {\n",
              "      background-color: #E8F0FE;\n",
              "      border: none;\n",
              "      border-radius: 50%;\n",
              "      cursor: pointer;\n",
              "      display: none;\n",
              "      fill: #1967D2;\n",
              "      height: 32px;\n",
              "      padding: 0 0 0 0;\n",
              "      width: 32px;\n",
              "    }\n",
              "\n",
              "    .colab-df-convert:hover {\n",
              "      background-color: #E2EBFA;\n",
              "      box-shadow: 0px 1px 2px rgba(60, 64, 67, 0.3), 0px 1px 3px 1px rgba(60, 64, 67, 0.15);\n",
              "      fill: #174EA6;\n",
              "    }\n",
              "\n",
              "    [theme=dark] .colab-df-convert {\n",
              "      background-color: #3B4455;\n",
              "      fill: #D2E3FC;\n",
              "    }\n",
              "\n",
              "    [theme=dark] .colab-df-convert:hover {\n",
              "      background-color: #434B5C;\n",
              "      box-shadow: 0px 1px 3px 1px rgba(0, 0, 0, 0.15);\n",
              "      filter: drop-shadow(0px 1px 2px rgba(0, 0, 0, 0.3));\n",
              "      fill: #FFFFFF;\n",
              "    }\n",
              "  </style>\n",
              "\n",
              "      <script>\n",
              "        const buttonEl =\n",
              "          document.querySelector('#df-62a2d7c3-1dc3-4ec0-97f4-44d24d6c27ef button.colab-df-convert');\n",
              "        buttonEl.style.display =\n",
              "          google.colab.kernel.accessAllowed ? 'block' : 'none';\n",
              "\n",
              "        async function convertToInteractive(key) {\n",
              "          const element = document.querySelector('#df-62a2d7c3-1dc3-4ec0-97f4-44d24d6c27ef');\n",
              "          const dataTable =\n",
              "            await google.colab.kernel.invokeFunction('convertToInteractive',\n",
              "                                                     [key], {});\n",
              "          if (!dataTable) return;\n",
              "\n",
              "          const docLinkHtml = 'Like what you see? Visit the ' +\n",
              "            '<a target=\"_blank\" href=https://colab.research.google.com/notebooks/data_table.ipynb>data table notebook</a>'\n",
              "            + ' to learn more about interactive tables.';\n",
              "          element.innerHTML = '';\n",
              "          dataTable['output_type'] = 'display_data';\n",
              "          await google.colab.output.renderOutput(dataTable, element);\n",
              "          const docLink = document.createElement('div');\n",
              "          docLink.innerHTML = docLinkHtml;\n",
              "          element.appendChild(docLink);\n",
              "        }\n",
              "      </script>\n",
              "    </div>\n",
              "  </div>\n",
              "  "
            ]
          },
          "metadata": {},
          "execution_count": 17
        }
      ],
      "source": [
        "global_temp.head(2)"
      ]
    },
    {
      "cell_type": "code",
      "execution_count": 18,
      "id": "b9bebd52",
      "metadata": {
        "id": "b9bebd52"
      },
      "outputs": [],
      "source": [
        "## finding \"avg_LandAverageTemperature\" & \"avg_LandAverageTemperatureUncertainty\" for each of the year..\n",
        "\n",
        "data=global_temp.groupby('years').agg({'LandAverageTemperature':'mean','LandAverageTemperatureUncertainty':'mean'}).reset_index()"
      ]
    },
    {
      "cell_type": "code",
      "execution_count": 19,
      "id": "f3b5751b",
      "metadata": {
        "id": "f3b5751b",
        "outputId": "a3f3de5b-41d6-4aa5-b3cc-1d9f55e90330",
        "colab": {
          "base_uri": "https://localhost:8080/",
          "height": 424
        }
      },
      "outputs": [
        {
          "output_type": "execute_result",
          "data": {
            "text/plain": [
              "     years  LandAverageTemperature  LandAverageTemperatureUncertainty\n",
              "0     1750                8.719364                           2.637818\n",
              "1     1751                7.976143                           2.781143\n",
              "2     1752                5.779833                           2.977000\n",
              "3     1753                8.388083                           3.176000\n",
              "4     1754                8.469333                           3.494250\n",
              "..     ...                     ...                                ...\n",
              "261   2011                9.516000                           0.082000\n",
              "262   2012                9.507333                           0.083417\n",
              "263   2013                9.606500                           0.097667\n",
              "264   2014                9.570667                           0.090167\n",
              "265   2015                9.831000                           0.092167\n",
              "\n",
              "[266 rows x 3 columns]"
            ],
            "text/html": [
              "\n",
              "  <div id=\"df-268debab-58eb-4809-92bc-08c252143abc\">\n",
              "    <div class=\"colab-df-container\">\n",
              "      <div>\n",
              "<style scoped>\n",
              "    .dataframe tbody tr th:only-of-type {\n",
              "        vertical-align: middle;\n",
              "    }\n",
              "\n",
              "    .dataframe tbody tr th {\n",
              "        vertical-align: top;\n",
              "    }\n",
              "\n",
              "    .dataframe thead th {\n",
              "        text-align: right;\n",
              "    }\n",
              "</style>\n",
              "<table border=\"1\" class=\"dataframe\">\n",
              "  <thead>\n",
              "    <tr style=\"text-align: right;\">\n",
              "      <th></th>\n",
              "      <th>years</th>\n",
              "      <th>LandAverageTemperature</th>\n",
              "      <th>LandAverageTemperatureUncertainty</th>\n",
              "    </tr>\n",
              "  </thead>\n",
              "  <tbody>\n",
              "    <tr>\n",
              "      <th>0</th>\n",
              "      <td>1750</td>\n",
              "      <td>8.719364</td>\n",
              "      <td>2.637818</td>\n",
              "    </tr>\n",
              "    <tr>\n",
              "      <th>1</th>\n",
              "      <td>1751</td>\n",
              "      <td>7.976143</td>\n",
              "      <td>2.781143</td>\n",
              "    </tr>\n",
              "    <tr>\n",
              "      <th>2</th>\n",
              "      <td>1752</td>\n",
              "      <td>5.779833</td>\n",
              "      <td>2.977000</td>\n",
              "    </tr>\n",
              "    <tr>\n",
              "      <th>3</th>\n",
              "      <td>1753</td>\n",
              "      <td>8.388083</td>\n",
              "      <td>3.176000</td>\n",
              "    </tr>\n",
              "    <tr>\n",
              "      <th>4</th>\n",
              "      <td>1754</td>\n",
              "      <td>8.469333</td>\n",
              "      <td>3.494250</td>\n",
              "    </tr>\n",
              "    <tr>\n",
              "      <th>...</th>\n",
              "      <td>...</td>\n",
              "      <td>...</td>\n",
              "      <td>...</td>\n",
              "    </tr>\n",
              "    <tr>\n",
              "      <th>261</th>\n",
              "      <td>2011</td>\n",
              "      <td>9.516000</td>\n",
              "      <td>0.082000</td>\n",
              "    </tr>\n",
              "    <tr>\n",
              "      <th>262</th>\n",
              "      <td>2012</td>\n",
              "      <td>9.507333</td>\n",
              "      <td>0.083417</td>\n",
              "    </tr>\n",
              "    <tr>\n",
              "      <th>263</th>\n",
              "      <td>2013</td>\n",
              "      <td>9.606500</td>\n",
              "      <td>0.097667</td>\n",
              "    </tr>\n",
              "    <tr>\n",
              "      <th>264</th>\n",
              "      <td>2014</td>\n",
              "      <td>9.570667</td>\n",
              "      <td>0.090167</td>\n",
              "    </tr>\n",
              "    <tr>\n",
              "      <th>265</th>\n",
              "      <td>2015</td>\n",
              "      <td>9.831000</td>\n",
              "      <td>0.092167</td>\n",
              "    </tr>\n",
              "  </tbody>\n",
              "</table>\n",
              "<p>266 rows × 3 columns</p>\n",
              "</div>\n",
              "      <button class=\"colab-df-convert\" onclick=\"convertToInteractive('df-268debab-58eb-4809-92bc-08c252143abc')\"\n",
              "              title=\"Convert this dataframe to an interactive table.\"\n",
              "              style=\"display:none;\">\n",
              "        \n",
              "  <svg xmlns=\"http://www.w3.org/2000/svg\" height=\"24px\"viewBox=\"0 0 24 24\"\n",
              "       width=\"24px\">\n",
              "    <path d=\"M0 0h24v24H0V0z\" fill=\"none\"/>\n",
              "    <path d=\"M18.56 5.44l.94 2.06.94-2.06 2.06-.94-2.06-.94-.94-2.06-.94 2.06-2.06.94zm-11 1L8.5 8.5l.94-2.06 2.06-.94-2.06-.94L8.5 2.5l-.94 2.06-2.06.94zm10 10l.94 2.06.94-2.06 2.06-.94-2.06-.94-.94-2.06-.94 2.06-2.06.94z\"/><path d=\"M17.41 7.96l-1.37-1.37c-.4-.4-.92-.59-1.43-.59-.52 0-1.04.2-1.43.59L10.3 9.45l-7.72 7.72c-.78.78-.78 2.05 0 2.83L4 21.41c.39.39.9.59 1.41.59.51 0 1.02-.2 1.41-.59l7.78-7.78 2.81-2.81c.8-.78.8-2.07 0-2.86zM5.41 20L4 18.59l7.72-7.72 1.47 1.35L5.41 20z\"/>\n",
              "  </svg>\n",
              "      </button>\n",
              "      \n",
              "  <style>\n",
              "    .colab-df-container {\n",
              "      display:flex;\n",
              "      flex-wrap:wrap;\n",
              "      gap: 12px;\n",
              "    }\n",
              "\n",
              "    .colab-df-convert {\n",
              "      background-color: #E8F0FE;\n",
              "      border: none;\n",
              "      border-radius: 50%;\n",
              "      cursor: pointer;\n",
              "      display: none;\n",
              "      fill: #1967D2;\n",
              "      height: 32px;\n",
              "      padding: 0 0 0 0;\n",
              "      width: 32px;\n",
              "    }\n",
              "\n",
              "    .colab-df-convert:hover {\n",
              "      background-color: #E2EBFA;\n",
              "      box-shadow: 0px 1px 2px rgba(60, 64, 67, 0.3), 0px 1px 3px 1px rgba(60, 64, 67, 0.15);\n",
              "      fill: #174EA6;\n",
              "    }\n",
              "\n",
              "    [theme=dark] .colab-df-convert {\n",
              "      background-color: #3B4455;\n",
              "      fill: #D2E3FC;\n",
              "    }\n",
              "\n",
              "    [theme=dark] .colab-df-convert:hover {\n",
              "      background-color: #434B5C;\n",
              "      box-shadow: 0px 1px 3px 1px rgba(0, 0, 0, 0.15);\n",
              "      filter: drop-shadow(0px 1px 2px rgba(0, 0, 0, 0.3));\n",
              "      fill: #FFFFFF;\n",
              "    }\n",
              "  </style>\n",
              "\n",
              "      <script>\n",
              "        const buttonEl =\n",
              "          document.querySelector('#df-268debab-58eb-4809-92bc-08c252143abc button.colab-df-convert');\n",
              "        buttonEl.style.display =\n",
              "          google.colab.kernel.accessAllowed ? 'block' : 'none';\n",
              "\n",
              "        async function convertToInteractive(key) {\n",
              "          const element = document.querySelector('#df-268debab-58eb-4809-92bc-08c252143abc');\n",
              "          const dataTable =\n",
              "            await google.colab.kernel.invokeFunction('convertToInteractive',\n",
              "                                                     [key], {});\n",
              "          if (!dataTable) return;\n",
              "\n",
              "          const docLinkHtml = 'Like what you see? Visit the ' +\n",
              "            '<a target=\"_blank\" href=https://colab.research.google.com/notebooks/data_table.ipynb>data table notebook</a>'\n",
              "            + ' to learn more about interactive tables.';\n",
              "          element.innerHTML = '';\n",
              "          dataTable['output_type'] = 'display_data';\n",
              "          await google.colab.output.renderOutput(dataTable, element);\n",
              "          const docLink = document.createElement('div');\n",
              "          docLink.innerHTML = docLinkHtml;\n",
              "          element.appendChild(docLink);\n",
              "        }\n",
              "      </script>\n",
              "    </div>\n",
              "  </div>\n",
              "  "
            ]
          },
          "metadata": {},
          "execution_count": 19
        }
      ],
      "source": [
        "data"
      ]
    },
    {
      "cell_type": "code",
      "execution_count": 20,
      "id": "d4b4a247",
      "metadata": {
        "id": "d4b4a247",
        "outputId": "0b614215-2a75-4926-cce1-37485756d592",
        "colab": {
          "base_uri": "https://localhost:8080/"
        }
      },
      "outputs": [
        {
          "output_type": "execute_result",
          "data": {
            "text/plain": [
              "Index(['years', 'LandAverageTemperature', 'LandAverageTemperatureUncertainty'], dtype='object')"
            ]
          },
          "metadata": {},
          "execution_count": 20
        }
      ],
      "source": [
        "data.columns"
      ]
    },
    {
      "cell_type": "markdown",
      "id": "a03b4bb5",
      "metadata": {
        "id": "a03b4bb5"
      },
      "source": [
        "    Maximum Uncertainty will be Avg temperature  +   deviation(Uncertainty)\n",
        "\n",
        "    whereas minimum Uncertainty will be Avg temp -   deviation(Uncertainty)\n",
        "\n",
        "    and this deviation is exactly your Uncertainty..."
      ]
    },
    {
      "cell_type": "code",
      "execution_count": 21,
      "id": "56444bec",
      "metadata": {
        "id": "56444bec"
      },
      "outputs": [],
      "source": [
        "\n",
        "## so lets create 2 more features as 'Uncertainty_top' & 'Uncertainty_bottom'\n",
        "\n",
        "data['Uncertainty_top']=data['LandAverageTemperature'] + data['LandAverageTemperatureUncertainty']\n",
        "data['Uncertainty_bottom']=data['LandAverageTemperature'] - data['LandAverageTemperatureUncertainty']"
      ]
    },
    {
      "cell_type": "code",
      "execution_count": 43,
      "id": "9e59da89",
      "metadata": {
        "id": "9e59da89",
        "outputId": "a3fe5ebb-159e-46e2-c1eb-9208a0a1f428",
        "colab": {
          "base_uri": "https://localhost:8080/",
          "height": 176
        }
      },
      "outputs": [
        {
          "output_type": "execute_result",
          "data": {
            "text/plain": [
              "   years  LandAverageTemperature  LandAverageTemperatureUncertainty  \\\n",
              "0   1750                8.719364                           2.637818   \n",
              "1   1751                7.976143                           2.781143   \n",
              "\n",
              "   Uncertainty_top  Uncertainty_bottom  \n",
              "0        11.357182            6.081545  \n",
              "1        10.757286            5.195000  "
            ],
            "text/html": [
              "\n",
              "  <div id=\"df-39f0f447-bbdc-4539-9f6f-58a6d7c8afdc\">\n",
              "    <div class=\"colab-df-container\">\n",
              "      <div>\n",
              "<style scoped>\n",
              "    .dataframe tbody tr th:only-of-type {\n",
              "        vertical-align: middle;\n",
              "    }\n",
              "\n",
              "    .dataframe tbody tr th {\n",
              "        vertical-align: top;\n",
              "    }\n",
              "\n",
              "    .dataframe thead th {\n",
              "        text-align: right;\n",
              "    }\n",
              "</style>\n",
              "<table border=\"1\" class=\"dataframe\">\n",
              "  <thead>\n",
              "    <tr style=\"text-align: right;\">\n",
              "      <th></th>\n",
              "      <th>years</th>\n",
              "      <th>LandAverageTemperature</th>\n",
              "      <th>LandAverageTemperatureUncertainty</th>\n",
              "      <th>Uncertainty_top</th>\n",
              "      <th>Uncertainty_bottom</th>\n",
              "    </tr>\n",
              "  </thead>\n",
              "  <tbody>\n",
              "    <tr>\n",
              "      <th>0</th>\n",
              "      <td>1750</td>\n",
              "      <td>8.719364</td>\n",
              "      <td>2.637818</td>\n",
              "      <td>11.357182</td>\n",
              "      <td>6.081545</td>\n",
              "    </tr>\n",
              "    <tr>\n",
              "      <th>1</th>\n",
              "      <td>1751</td>\n",
              "      <td>7.976143</td>\n",
              "      <td>2.781143</td>\n",
              "      <td>10.757286</td>\n",
              "      <td>5.195000</td>\n",
              "    </tr>\n",
              "  </tbody>\n",
              "</table>\n",
              "</div>\n",
              "      <button class=\"colab-df-convert\" onclick=\"convertToInteractive('df-39f0f447-bbdc-4539-9f6f-58a6d7c8afdc')\"\n",
              "              title=\"Convert this dataframe to an interactive table.\"\n",
              "              style=\"display:none;\">\n",
              "        \n",
              "  <svg xmlns=\"http://www.w3.org/2000/svg\" height=\"24px\"viewBox=\"0 0 24 24\"\n",
              "       width=\"24px\">\n",
              "    <path d=\"M0 0h24v24H0V0z\" fill=\"none\"/>\n",
              "    <path d=\"M18.56 5.44l.94 2.06.94-2.06 2.06-.94-2.06-.94-.94-2.06-.94 2.06-2.06.94zm-11 1L8.5 8.5l.94-2.06 2.06-.94-2.06-.94L8.5 2.5l-.94 2.06-2.06.94zm10 10l.94 2.06.94-2.06 2.06-.94-2.06-.94-.94-2.06-.94 2.06-2.06.94z\"/><path d=\"M17.41 7.96l-1.37-1.37c-.4-.4-.92-.59-1.43-.59-.52 0-1.04.2-1.43.59L10.3 9.45l-7.72 7.72c-.78.78-.78 2.05 0 2.83L4 21.41c.39.39.9.59 1.41.59.51 0 1.02-.2 1.41-.59l7.78-7.78 2.81-2.81c.8-.78.8-2.07 0-2.86zM5.41 20L4 18.59l7.72-7.72 1.47 1.35L5.41 20z\"/>\n",
              "  </svg>\n",
              "      </button>\n",
              "      \n",
              "  <style>\n",
              "    .colab-df-container {\n",
              "      display:flex;\n",
              "      flex-wrap:wrap;\n",
              "      gap: 12px;\n",
              "    }\n",
              "\n",
              "    .colab-df-convert {\n",
              "      background-color: #E8F0FE;\n",
              "      border: none;\n",
              "      border-radius: 50%;\n",
              "      cursor: pointer;\n",
              "      display: none;\n",
              "      fill: #1967D2;\n",
              "      height: 32px;\n",
              "      padding: 0 0 0 0;\n",
              "      width: 32px;\n",
              "    }\n",
              "\n",
              "    .colab-df-convert:hover {\n",
              "      background-color: #E2EBFA;\n",
              "      box-shadow: 0px 1px 2px rgba(60, 64, 67, 0.3), 0px 1px 3px 1px rgba(60, 64, 67, 0.15);\n",
              "      fill: #174EA6;\n",
              "    }\n",
              "\n",
              "    [theme=dark] .colab-df-convert {\n",
              "      background-color: #3B4455;\n",
              "      fill: #D2E3FC;\n",
              "    }\n",
              "\n",
              "    [theme=dark] .colab-df-convert:hover {\n",
              "      background-color: #434B5C;\n",
              "      box-shadow: 0px 1px 3px 1px rgba(0, 0, 0, 0.15);\n",
              "      filter: drop-shadow(0px 1px 2px rgba(0, 0, 0, 0.3));\n",
              "      fill: #FFFFFF;\n",
              "    }\n",
              "  </style>\n",
              "\n",
              "      <script>\n",
              "        const buttonEl =\n",
              "          document.querySelector('#df-39f0f447-bbdc-4539-9f6f-58a6d7c8afdc button.colab-df-convert');\n",
              "        buttonEl.style.display =\n",
              "          google.colab.kernel.accessAllowed ? 'block' : 'none';\n",
              "\n",
              "        async function convertToInteractive(key) {\n",
              "          const element = document.querySelector('#df-39f0f447-bbdc-4539-9f6f-58a6d7c8afdc');\n",
              "          const dataTable =\n",
              "            await google.colab.kernel.invokeFunction('convertToInteractive',\n",
              "                                                     [key], {});\n",
              "          if (!dataTable) return;\n",
              "\n",
              "          const docLinkHtml = 'Like what you see? Visit the ' +\n",
              "            '<a target=\"_blank\" href=https://colab.research.google.com/notebooks/data_table.ipynb>data table notebook</a>'\n",
              "            + ' to learn more about interactive tables.';\n",
              "          element.innerHTML = '';\n",
              "          dataTable['output_type'] = 'display_data';\n",
              "          await google.colab.output.renderOutput(dataTable, element);\n",
              "          const docLink = document.createElement('div');\n",
              "          docLink.innerHTML = docLinkHtml;\n",
              "          element.appendChild(docLink);\n",
              "        }\n",
              "      </script>\n",
              "    </div>\n",
              "  </div>\n",
              "  "
            ]
          },
          "metadata": {},
          "execution_count": 43
        }
      ],
      "source": [
        "data.head(2)"
      ]
    },
    {
      "cell_type": "code",
      "execution_count": 23,
      "id": "a1341a42",
      "metadata": {
        "id": "a1341a42",
        "outputId": "a2a29fc5-fd6b-4e49-f475-26ec222bebc9",
        "colab": {
          "base_uri": "https://localhost:8080/"
        }
      },
      "outputs": [
        {
          "output_type": "execute_result",
          "data": {
            "text/plain": [
              "Index(['years', 'LandAverageTemperature', 'LandAverageTemperatureUncertainty',\n",
              "       'Uncertainty_top', 'Uncertainty_bottom'],\n",
              "      dtype='object')"
            ]
          },
          "metadata": {},
          "execution_count": 23
        }
      ],
      "source": [
        "data.columns"
      ]
    },
    {
      "cell_type": "code",
      "execution_count": 24,
      "id": "7c077241",
      "metadata": {
        "id": "7c077241",
        "outputId": "1c53ba3c-e5e1-4710-bd81-8952a63cb350",
        "colab": {
          "base_uri": "https://localhost:8080/",
          "height": 547
        }
      },
      "outputs": [
        {
          "output_type": "execute_result",
          "data": {
            "text/plain": [
              "<matplotlib.axes._subplots.AxesSubplot at 0x7ff50ab8cc10>"
            ]
          },
          "metadata": {},
          "execution_count": 24
        },
        {
          "output_type": "display_data",
          "data": {
            "text/plain": [
              "<Figure size 1152x720 with 1 Axes>"
            ],
            "image/png": "[encoded data removed]"
          },
          "metadata": {
            "needs_background": "light"
          }
        }
      ],
      "source": [
        "### pandas lineplot :\n",
        "\n",
        "data.plot(x='years',y=['LandAverageTemperature', 'LandAverageTemperatureUncertainty',\n",
        "       'Uncertainty_top', 'Uncertainty_bottom'],figsize=(16,10))"
      ]
    },
    {
      "cell_type": "code",
      "execution_count": 24,
      "id": "ad6f71ab",
      "metadata": {
        "id": "ad6f71ab"
      },
      "outputs": [],
      "source": []
    },
    {
      "cell_type": "markdown",
      "id": "92320c45",
      "metadata": {
        "id": "92320c45"
      },
      "source": [
        "    Conclusion ::  From the charts you can see, that there is global warming nowadays. \n",
        "        The average temperature of Earth surface has the highest value in \n",
        "        the last three centuries. The fastest temperature growth occurred \n",
        "        in the last 30 years! This worries me, I hope soon humanity will \n",
        "        fully switch to ecological sources of energy, that will reduce CO2. \n",
        "        If it’s will not happened, we will be in disaster. This charts also \n",
        "        have confidence intervals, which shows that measurement of temperatur\n",
        "        e has become more accurate in the last few years."
      ]
    },
    {
      "cell_type": "code",
      "execution_count": 24,
      "id": "7e2690fd",
      "metadata": {
        "id": "7e2690fd"
      },
      "outputs": [],
      "source": []
    },
    {
      "cell_type": "code",
      "execution_count": 24,
      "id": "c0bb1f82",
      "metadata": {
        "id": "c0bb1f82"
      },
      "outputs": [],
      "source": []
    },
    {
      "cell_type": "code",
      "execution_count": 24,
      "id": "c2e7d46c",
      "metadata": {
        "id": "c2e7d46c"
      },
      "outputs": [],
      "source": []
    },
    {
      "cell_type": "markdown",
      "id": "49871d35",
      "metadata": {
        "id": "49871d35"
      },
      "source": [
        "# 3.. Analyse Average temperature in each season ?"
      ]
    },
    {
      "cell_type": "code",
      "execution_count": 25,
      "id": "a216afc8",
      "metadata": {
        "id": "a216afc8",
        "outputId": "bf59fdc7-380e-461f-ee08-b39602d70a4e",
        "colab": {
          "base_uri": "https://localhost:8080/"
        }
      },
      "outputs": [
        {
          "output_type": "execute_result",
          "data": {
            "text/plain": [
              "Index(['dt', 'LandAverageTemperature', 'LandAverageTemperatureUncertainty',\n",
              "       'LandMaxTemperature', 'LandMaxTemperatureUncertainty',\n",
              "       'LandMinTemperature', 'LandMinTemperatureUncertainty',\n",
              "       'LandAndOceanAverageTemperature',\n",
              "       'LandAndOceanAverageTemperatureUncertainty', 'years'],\n",
              "      dtype='object')"
            ]
          },
          "metadata": {},
          "execution_count": 25
        }
      ],
      "source": [
        "global_temp.columns"
      ]
    },
    {
      "cell_type": "code",
      "execution_count": 26,
      "id": "98cec27a",
      "metadata": {
        "id": "98cec27a"
      },
      "outputs": [],
      "source": [
        "## extract 'month' from 'dt' feature.\n",
        "global_temp['month']=global_temp['dt'].dt.month"
      ]
    },
    {
      "cell_type": "code",
      "execution_count": 27,
      "id": "d2147654",
      "metadata": {
        "id": "d2147654",
        "outputId": "eacc5ff5-9e42-47cf-b140-33fc28439d60",
        "colab": {
          "base_uri": "https://localhost:8080/",
          "height": 0
        }
      },
      "outputs": [
        {
          "output_type": "execute_result",
          "data": {
            "text/plain": [
              "          dt  LandAverageTemperature  LandAverageTemperatureUncertainty  \\\n",
              "0 1750-01-01                   3.034                              3.574   \n",
              "1 1750-02-01                   3.083                              3.702   \n",
              "\n",
              "   LandMaxTemperature  LandMaxTemperatureUncertainty  LandMinTemperature  \\\n",
              "0                 NaN                            NaN                 NaN   \n",
              "1                 NaN                            NaN                 NaN   \n",
              "\n",
              "   LandMinTemperatureUncertainty  LandAndOceanAverageTemperature  \\\n",
              "0                            NaN                             NaN   \n",
              "1                            NaN                             NaN   \n",
              "\n",
              "   LandAndOceanAverageTemperatureUncertainty  years  month  \n",
              "0                                        NaN   1750      1  \n",
              "1                                        NaN   1750      2  "
            ],
            "text/html": [
              "\n",
              "  <div id=\"df-87b57697-afac-4cde-abca-12f8648f9ca6\">\n",
              "    <div class=\"colab-df-container\">\n",
              "      <div>\n",
              "<style scoped>\n",
              "    .dataframe tbody tr th:only-of-type {\n",
              "        vertical-align: middle;\n",
              "    }\n",
              "\n",
              "    .dataframe tbody tr th {\n",
              "        vertical-align: top;\n",
              "    }\n",
              "\n",
              "    .dataframe thead th {\n",
              "        text-align: right;\n",
              "    }\n",
              "</style>\n",
              "<table border=\"1\" class=\"dataframe\">\n",
              "  <thead>\n",
              "    <tr style=\"text-align: right;\">\n",
              "      <th></th>\n",
              "      <th>dt</th>\n",
              "      <th>LandAverageTemperature</th>\n",
              "      <th>LandAverageTemperatureUncertainty</th>\n",
              "      <th>LandMaxTemperature</th>\n",
              "      <th>LandMaxTemperatureUncertainty</th>\n",
              "      <th>LandMinTemperature</th>\n",
              "      <th>LandMinTemperatureUncertainty</th>\n",
              "      <th>LandAndOceanAverageTemperature</th>\n",
              "      <th>LandAndOceanAverageTemperatureUncertainty</th>\n",
              "      <th>years</th>\n",
              "      <th>month</th>\n",
              "    </tr>\n",
              "  </thead>\n",
              "  <tbody>\n",
              "    <tr>\n",
              "      <th>0</th>\n",
              "      <td>1750-01-01</td>\n",
              "      <td>3.034</td>\n",
              "      <td>3.574</td>\n",
              "      <td>NaN</td>\n",
              "      <td>NaN</td>\n",
              "      <td>NaN</td>\n",
              "      <td>NaN</td>\n",
              "      <td>NaN</td>\n",
              "      <td>NaN</td>\n",
              "      <td>1750</td>\n",
              "      <td>1</td>\n",
              "    </tr>\n",
              "    <tr>\n",
              "      <th>1</th>\n",
              "      <td>1750-02-01</td>\n",
              "      <td>3.083</td>\n",
              "      <td>3.702</td>\n",
              "      <td>NaN</td>\n",
              "      <td>NaN</td>\n",
              "      <td>NaN</td>\n",
              "      <td>NaN</td>\n",
              "      <td>NaN</td>\n",
              "      <td>NaN</td>\n",
              "      <td>1750</td>\n",
              "      <td>2</td>\n",
              "    </tr>\n",
              "  </tbody>\n",
              "</table>\n",
              "</div>\n",
              "      <button class=\"colab-df-convert\" onclick=\"convertToInteractive('df-87b57697-afac-4cde-abca-12f8648f9ca6')\"\n",
              "              title=\"Convert this dataframe to an interactive table.\"\n",
              "              style=\"display:none;\">\n",
              "        \n",
              "  <svg xmlns=\"http://www.w3.org/2000/svg\" height=\"24px\"viewBox=\"0 0 24 24\"\n",
              "       width=\"24px\">\n",
              "    <path d=\"M0 0h24v24H0V0z\" fill=\"none\"/>\n",
              "    <path d=\"M18.56 5.44l.94 2.06.94-2.06 2.06-.94-2.06-.94-.94-2.06-.94 2.06-2.06.94zm-11 1L8.5 8.5l.94-2.06 2.06-.94-2.06-.94L8.5 2.5l-.94 2.06-2.06.94zm10 10l.94 2.06.94-2.06 2.06-.94-2.06-.94-.94-2.06-.94 2.06-2.06.94z\"/><path d=\"M17.41 7.96l-1.37-1.37c-.4-.4-.92-.59-1.43-.59-.52 0-1.04.2-1.43.59L10.3 9.45l-7.72 7.72c-.78.78-.78 2.05 0 2.83L4 21.41c.39.39.9.59 1.41.59.51 0 1.02-.2 1.41-.59l7.78-7.78 2.81-2.81c.8-.78.8-2.07 0-2.86zM5.41 20L4 18.59l7.72-7.72 1.47 1.35L5.41 20z\"/>\n",
              "  </svg>\n",
              "      </button>\n",
              "      \n",
              "  <style>\n",
              "    .colab-df-container {\n",
              "      display:flex;\n",
              "      flex-wrap:wrap;\n",
              "      gap: 12px;\n",
              "    }\n",
              "\n",
              "    .colab-df-convert {\n",
              "      background-color: #E8F0FE;\n",
              "      border: none;\n",
              "      border-radius: 50%;\n",
              "      cursor: pointer;\n",
              "      display: none;\n",
              "      fill: #1967D2;\n",
              "      height: 32px;\n",
              "      padding: 0 0 0 0;\n",
              "      width: 32px;\n",
              "    }\n",
              "\n",
              "    .colab-df-convert:hover {\n",
              "      background-color: #E2EBFA;\n",
              "      box-shadow: 0px 1px 2px rgba(60, 64, 67, 0.3), 0px 1px 3px 1px rgba(60, 64, 67, 0.15);\n",
              "      fill: #174EA6;\n",
              "    }\n",
              "\n",
              "    [theme=dark] .colab-df-convert {\n",
              "      background-color: #3B4455;\n",
              "      fill: #D2E3FC;\n",
              "    }\n",
              "\n",
              "    [theme=dark] .colab-df-convert:hover {\n",
              "      background-color: #434B5C;\n",
              "      box-shadow: 0px 1px 3px 1px rgba(0, 0, 0, 0.15);\n",
              "      filter: drop-shadow(0px 1px 2px rgba(0, 0, 0, 0.3));\n",
              "      fill: #FFFFFF;\n",
              "    }\n",
              "  </style>\n",
              "\n",
              "      <script>\n",
              "        const buttonEl =\n",
              "          document.querySelector('#df-87b57697-afac-4cde-abca-12f8648f9ca6 button.colab-df-convert');\n",
              "        buttonEl.style.display =\n",
              "          google.colab.kernel.accessAllowed ? 'block' : 'none';\n",
              "\n",
              "        async function convertToInteractive(key) {\n",
              "          const element = document.querySelector('#df-87b57697-afac-4cde-abca-12f8648f9ca6');\n",
              "          const dataTable =\n",
              "            await google.colab.kernel.invokeFunction('convertToInteractive',\n",
              "                                                     [key], {});\n",
              "          if (!dataTable) return;\n",
              "\n",
              "          const docLinkHtml = 'Like what you see? Visit the ' +\n",
              "            '<a target=\"_blank\" href=https://colab.research.google.com/notebooks/data_table.ipynb>data table notebook</a>'\n",
              "            + ' to learn more about interactive tables.';\n",
              "          element.innerHTML = '';\n",
              "          dataTable['output_type'] = 'display_data';\n",
              "          await google.colab.output.renderOutput(dataTable, element);\n",
              "          const docLink = document.createElement('div');\n",
              "          docLink.innerHTML = docLinkHtml;\n",
              "          element.appendChild(docLink);\n",
              "        }\n",
              "      </script>\n",
              "    </div>\n",
              "  </div>\n",
              "  "
            ]
          },
          "metadata": {},
          "execution_count": 27
        }
      ],
      "source": [
        "global_temp.head(2)"
      ]
    },
    {
      "cell_type": "code",
      "execution_count": 28,
      "id": "f80a8fca",
      "metadata": {
        "id": "f80a8fca",
        "outputId": "eb71876b-0c37-4cde-df92-c1d0205f55eb",
        "colab": {
          "base_uri": "https://localhost:8080/"
        }
      },
      "outputs": [
        {
          "output_type": "execute_result",
          "data": {
            "text/plain": [
              "array([ 1,  2,  3,  4,  5,  6,  7,  8,  9, 10, 11, 12])"
            ]
          },
          "metadata": {},
          "execution_count": 28
        }
      ],
      "source": [
        "global_temp['month'].unique()"
      ]
    },
    {
      "cell_type": "code",
      "execution_count": 28,
      "id": "95e476bf",
      "metadata": {
        "id": "95e476bf"
      },
      "outputs": [],
      "source": []
    },
    {
      "cell_type": "code",
      "execution_count": 29,
      "id": "de3af3ca",
      "metadata": {
        "id": "de3af3ca"
      },
      "outputs": [],
      "source": [
        "## lets define a function to extract season from 'month'\n",
        "\n",
        "def get_season(month):\n",
        "    \n",
        "    if month>=3 and month<=5:\n",
        "        return 'spring'\n",
        "    \n",
        "    elif month>=6 and month<=8:\n",
        "        return 'summer'\n",
        "    \n",
        "    elif month>=9 and month<=11:\n",
        "        return 'autumn'\n",
        "    \n",
        "    else:\n",
        "        return 'winter'"
      ]
    },
    {
      "cell_type": "code",
      "execution_count": 30,
      "id": "ac6019c0",
      "metadata": {
        "id": "ac6019c0"
      },
      "outputs": [],
      "source": [
        "## applying a function on top of 'month' feature..\n",
        "\n",
        "global_temp['season']=global_temp['month'].apply(get_season)"
      ]
    },
    {
      "cell_type": "code",
      "execution_count": 31,
      "id": "0ea08483",
      "metadata": {
        "id": "0ea08483",
        "outputId": "c1d43114-d0da-4248-ac3c-1c9fd4606b73",
        "colab": {
          "base_uri": "https://localhost:8080/"
        }
      },
      "outputs": [
        {
          "output_type": "execute_result",
          "data": {
            "text/plain": [
              "Index(['dt', 'LandAverageTemperature', 'LandAverageTemperatureUncertainty',\n",
              "       'LandMaxTemperature', 'LandMaxTemperatureUncertainty',\n",
              "       'LandMinTemperature', 'LandMinTemperatureUncertainty',\n",
              "       'LandAndOceanAverageTemperature',\n",
              "       'LandAndOceanAverageTemperatureUncertainty', 'years', 'month',\n",
              "       'season'],\n",
              "      dtype='object')"
            ]
          },
          "metadata": {},
          "execution_count": 31
        }
      ],
      "source": [
        "global_temp.columns"
      ]
    },
    {
      "cell_type": "code",
      "execution_count": 32,
      "id": "79d7f0a6",
      "metadata": {
        "id": "79d7f0a6"
      },
      "outputs": [],
      "source": [
        "years=global_temp['years'].unique()"
      ]
    },
    {
      "cell_type": "code",
      "execution_count": 32,
      "id": "b7699482",
      "metadata": {
        "id": "b7699482"
      },
      "outputs": [],
      "source": []
    },
    {
      "cell_type": "code",
      "execution_count": 33,
      "id": "7ebfa890",
      "metadata": {
        "id": "7ebfa890",
        "outputId": "bc141c85-7f0a-4af9-fc8d-a84b7ac37ede",
        "colab": {
          "base_uri": "https://localhost:8080/"
        }
      },
      "outputs": [
        {
          "output_type": "execute_result",
          "data": {
            "text/plain": [
              "array(['winter', 'spring', 'summer', 'autumn'], dtype=object)"
            ]
          },
          "metadata": {},
          "execution_count": 33
        }
      ],
      "source": [
        "global_temp['season'].unique()"
      ]
    },
    {
      "cell_type": "code",
      "execution_count": 33,
      "id": "cc013468",
      "metadata": {
        "id": "cc013468"
      },
      "outputs": [],
      "source": []
    },
    {
      "cell_type": "code",
      "execution_count": 33,
      "id": "04dc2569",
      "metadata": {
        "id": "04dc2569"
      },
      "outputs": [],
      "source": []
    },
    {
      "cell_type": "code",
      "execution_count": 34,
      "id": "25e7b45e",
      "metadata": {
        "id": "25e7b45e"
      },
      "outputs": [],
      "source": [
        "## lets define 4 blank lists to store all the \"season temp\"  of \"various years\".\n",
        "\n",
        "spring_temps=[]\n",
        "summer_temps=[]\n",
        "autumn_temps=[]\n",
        "winter_temps=[]\n",
        "\n",
        "for year in years:\n",
        "    current_yr=global_temp[global_temp['years']==year]\n",
        "    \n",
        "    spring_temps.append(current_yr[current_yr['season']=='spring']['LandAverageTemperature'].mean())\n",
        "    summer_temps.append(current_yr[current_yr['season']=='summer']['LandAverageTemperature'].mean())\n",
        "    autumn_temps.append(current_yr[current_yr['season']=='autumn']['LandAverageTemperature'].mean())\n",
        "    winter_temps.append(current_yr[current_yr['season']=='winter']['LandAverageTemperature'].mean())\n",
        "    "
      ]
    },
    {
      "cell_type": "code",
      "execution_count": 34,
      "id": "643b6e43",
      "metadata": {
        "id": "643b6e43"
      },
      "outputs": [],
      "source": []
    },
    {
      "cell_type": "code",
      "execution_count": 35,
      "id": "73ec2193",
      "metadata": {
        "id": "73ec2193"
      },
      "outputs": [],
      "source": [
        "### lets make a blank dataframe ..\n",
        "\n",
        "season=pd.DataFrame()"
      ]
    },
    {
      "cell_type": "code",
      "execution_count": 36,
      "id": "d675f580",
      "metadata": {
        "id": "d675f580"
      },
      "outputs": [],
      "source": [
        "## assigning features in dataframe..\n",
        "\n",
        "season['years']=years\n",
        "season['spring_temps']=spring_temps\n",
        "season['summer_temps']=summer_temps\n",
        "season['autumn_temps']=autumn_temps\n",
        "season['winter_temps']=winter_temps"
      ]
    },
    {
      "cell_type": "code",
      "execution_count": 37,
      "id": "1d6d64ff",
      "metadata": {
        "id": "1d6d64ff",
        "outputId": "2610ba0b-f167-45c4-e4e2-92484d366e81",
        "colab": {
          "base_uri": "https://localhost:8080/",
          "height": 0
        }
      },
      "outputs": [
        {
          "output_type": "execute_result",
          "data": {
            "text/plain": [
              "     years  spring_temps  summer_temps  autumn_temps  winter_temps\n",
              "0     1750      8.563000     14.518333      8.890000      2.963000\n",
              "1     1751      6.735000     14.116000     10.673000      1.729000\n",
              "2     1752      7.035500           NaN      7.587000      2.717000\n",
              "3     1753      8.627333     14.608333      9.212333      1.104333\n",
              "4     1754      9.074333     14.208333      8.957333      1.637333\n",
              "..     ...           ...           ...           ...           ...\n",
              "261   2011      9.190000     14.954667     10.026000      3.893333\n",
              "262   2012      9.429667     14.762667     10.208000      3.629000\n",
              "263   2013      9.166667     14.771000     10.278000      4.210333\n",
              "264   2014      9.516333     14.694333     10.044667      4.027333\n",
              "265   2015      9.455000     14.770333     10.411000      4.687667\n",
              "\n",
              "[266 rows x 5 columns]"
            ],
            "text/html": [
              "\n",
              "  <div id=\"df-6d303e7b-d485-4266-b67a-63c117474bc8\">\n",
              "    <div class=\"colab-df-container\">\n",
              "      <div>\n",
              "<style scoped>\n",
              "    .dataframe tbody tr th:only-of-type {\n",
              "        vertical-align: middle;\n",
              "    }\n",
              "\n",
              "    .dataframe tbody tr th {\n",
              "        vertical-align: top;\n",
              "    }\n",
              "\n",
              "    .dataframe thead th {\n",
              "        text-align: right;\n",
              "    }\n",
              "</style>\n",
              "<table border=\"1\" class=\"dataframe\">\n",
              "  <thead>\n",
              "    <tr style=\"text-align: right;\">\n",
              "      <th></th>\n",
              "      <th>years</th>\n",
              "      <th>spring_temps</th>\n",
              "      <th>summer_temps</th>\n",
              "      <th>autumn_temps</th>\n",
              "      <th>winter_temps</th>\n",
              "    </tr>\n",
              "  </thead>\n",
              "  <tbody>\n",
              "    <tr>\n",
              "      <th>0</th>\n",
              "      <td>1750</td>\n",
              "      <td>8.563000</td>\n",
              "      <td>14.518333</td>\n",
              "      <td>8.890000</td>\n",
              "      <td>2.963000</td>\n",
              "    </tr>\n",
              "    <tr>\n",
              "      <th>1</th>\n",
              "      <td>1751</td>\n",
              "      <td>6.735000</td>\n",
              "      <td>14.116000</td>\n",
              "      <td>10.673000</td>\n",
              "      <td>1.729000</td>\n",
              "    </tr>\n",
              "    <tr>\n",
              "      <th>2</th>\n",
              "      <td>1752</td>\n",
              "      <td>7.035500</td>\n",
              "      <td>NaN</td>\n",
              "      <td>7.587000</td>\n",
              "      <td>2.717000</td>\n",
              "    </tr>\n",
              "    <tr>\n",
              "      <th>3</th>\n",
              "      <td>1753</td>\n",
              "      <td>8.627333</td>\n",
              "      <td>14.608333</td>\n",
              "      <td>9.212333</td>\n",
              "      <td>1.104333</td>\n",
              "    </tr>\n",
              "    <tr>\n",
              "      <th>4</th>\n",
              "      <td>1754</td>\n",
              "      <td>9.074333</td>\n",
              "      <td>14.208333</td>\n",
              "      <td>8.957333</td>\n",
              "      <td>1.637333</td>\n",
              "    </tr>\n",
              "    <tr>\n",
              "      <th>...</th>\n",
              "      <td>...</td>\n",
              "      <td>...</td>\n",
              "      <td>...</td>\n",
              "      <td>...</td>\n",
              "      <td>...</td>\n",
              "    </tr>\n",
              "    <tr>\n",
              "      <th>261</th>\n",
              "      <td>2011</td>\n",
              "      <td>9.190000</td>\n",
              "      <td>14.954667</td>\n",
              "      <td>10.026000</td>\n",
              "      <td>3.893333</td>\n",
              "    </tr>\n",
              "    <tr>\n",
              "      <th>262</th>\n",
              "      <td>2012</td>\n",
              "      <td>9.429667</td>\n",
              "      <td>14.762667</td>\n",
              "      <td>10.208000</td>\n",
              "      <td>3.629000</td>\n",
              "    </tr>\n",
              "    <tr>\n",
              "      <th>263</th>\n",
              "      <td>2013</td>\n",
              "      <td>9.166667</td>\n",
              "      <td>14.771000</td>\n",
              "      <td>10.278000</td>\n",
              "      <td>4.210333</td>\n",
              "    </tr>\n",
              "    <tr>\n",
              "      <th>264</th>\n",
              "      <td>2014</td>\n",
              "      <td>9.516333</td>\n",
              "      <td>14.694333</td>\n",
              "      <td>10.044667</td>\n",
              "      <td>4.027333</td>\n",
              "    </tr>\n",
              "    <tr>\n",
              "      <th>265</th>\n",
              "      <td>2015</td>\n",
              "      <td>9.455000</td>\n",
              "      <td>14.770333</td>\n",
              "      <td>10.411000</td>\n",
              "      <td>4.687667</td>\n",
              "    </tr>\n",
              "  </tbody>\n",
              "</table>\n",
              "<p>266 rows × 5 columns</p>\n",
              "</div>\n",
              "      <button class=\"colab-df-convert\" onclick=\"convertToInteractive('df-6d303e7b-d485-4266-b67a-63c117474bc8')\"\n",
              "              title=\"Convert this dataframe to an interactive table.\"\n",
              "              style=\"display:none;\">\n",
              "        \n",
              "  <svg xmlns=\"http://www.w3.org/2000/svg\" height=\"24px\"viewBox=\"0 0 24 24\"\n",
              "       width=\"24px\">\n",
              "    <path d=\"M0 0h24v24H0V0z\" fill=\"none\"/>\n",
              "    <path d=\"M18.56 5.44l.94 2.06.94-2.06 2.06-.94-2.06-.94-.94-2.06-.94 2.06-2.06.94zm-11 1L8.5 8.5l.94-2.06 2.06-.94-2.06-.94L8.5 2.5l-.94 2.06-2.06.94zm10 10l.94 2.06.94-2.06 2.06-.94-2.06-.94-.94-2.06-.94 2.06-2.06.94z\"/><path d=\"M17.41 7.96l-1.37-1.37c-.4-.4-.92-.59-1.43-.59-.52 0-1.04.2-1.43.59L10.3 9.45l-7.72 7.72c-.78.78-.78 2.05 0 2.83L4 21.41c.39.39.9.59 1.41.59.51 0 1.02-.2 1.41-.59l7.78-7.78 2.81-2.81c.8-.78.8-2.07 0-2.86zM5.41 20L4 18.59l7.72-7.72 1.47 1.35L5.41 20z\"/>\n",
              "  </svg>\n",
              "      </button>\n",
              "      \n",
              "  <style>\n",
              "    .colab-df-container {\n",
              "      display:flex;\n",
              "      flex-wrap:wrap;\n",
              "      gap: 12px;\n",
              "    }\n",
              "\n",
              "    .colab-df-convert {\n",
              "      background-color: #E8F0FE;\n",
              "      border: none;\n",
              "      border-radius: 50%;\n",
              "      cursor: pointer;\n",
              "      display: none;\n",
              "      fill: #1967D2;\n",
              "      height: 32px;\n",
              "      padding: 0 0 0 0;\n",
              "      width: 32px;\n",
              "    }\n",
              "\n",
              "    .colab-df-convert:hover {\n",
              "      background-color: #E2EBFA;\n",
              "      box-shadow: 0px 1px 2px rgba(60, 64, 67, 0.3), 0px 1px 3px 1px rgba(60, 64, 67, 0.15);\n",
              "      fill: #174EA6;\n",
              "    }\n",
              "\n",
              "    [theme=dark] .colab-df-convert {\n",
              "      background-color: #3B4455;\n",
              "      fill: #D2E3FC;\n",
              "    }\n",
              "\n",
              "    [theme=dark] .colab-df-convert:hover {\n",
              "      background-color: #434B5C;\n",
              "      box-shadow: 0px 1px 3px 1px rgba(0, 0, 0, 0.15);\n",
              "      filter: drop-shadow(0px 1px 2px rgba(0, 0, 0, 0.3));\n",
              "      fill: #FFFFFF;\n",
              "    }\n",
              "  </style>\n",
              "\n",
              "      <script>\n",
              "        const buttonEl =\n",
              "          document.querySelector('#df-6d303e7b-d485-4266-b67a-63c117474bc8 button.colab-df-convert');\n",
              "        buttonEl.style.display =\n",
              "          google.colab.kernel.accessAllowed ? 'block' : 'none';\n",
              "\n",
              "        async function convertToInteractive(key) {\n",
              "          const element = document.querySelector('#df-6d303e7b-d485-4266-b67a-63c117474bc8');\n",
              "          const dataTable =\n",
              "            await google.colab.kernel.invokeFunction('convertToInteractive',\n",
              "                                                     [key], {});\n",
              "          if (!dataTable) return;\n",
              "\n",
              "          const docLinkHtml = 'Like what you see? Visit the ' +\n",
              "            '<a target=\"_blank\" href=https://colab.research.google.com/notebooks/data_table.ipynb>data table notebook</a>'\n",
              "            + ' to learn more about interactive tables.';\n",
              "          element.innerHTML = '';\n",
              "          dataTable['output_type'] = 'display_data';\n",
              "          await google.colab.output.renderOutput(dataTable, element);\n",
              "          const docLink = document.createElement('div');\n",
              "          docLink.innerHTML = docLinkHtml;\n",
              "          element.appendChild(docLink);\n",
              "        }\n",
              "      </script>\n",
              "    </div>\n",
              "  </div>\n",
              "  "
            ]
          },
          "metadata": {},
          "execution_count": 37
        }
      ],
      "source": [
        "season"
      ]
    },
    {
      "cell_type": "code",
      "execution_count": 38,
      "id": "11f2ea15",
      "metadata": {
        "id": "11f2ea15"
      },
      "outputs": [],
      "source": [
        "##data.plot(x='years',y=['LandAverageTemperature', 'LandAverageTemperatureUncertainty',\n",
        " ##      'Uncertainty_top', 'Uncertainty_bottom'],figsize=(16,10))"
      ]
    },
    {
      "cell_type": "code",
      "execution_count": 39,
      "id": "c5f87247",
      "metadata": {
        "id": "c5f87247",
        "outputId": "24130164-0212-41e5-d8db-8088428e821e",
        "colab": {
          "base_uri": "https://localhost:8080/"
        }
      },
      "outputs": [
        {
          "output_type": "execute_result",
          "data": {
            "text/plain": [
              "Index(['years', 'spring_temps', 'summer_temps', 'autumn_temps',\n",
              "       'winter_temps'],\n",
              "      dtype='object')"
            ]
          },
          "metadata": {},
          "execution_count": 39
        }
      ],
      "source": [
        "season.columns"
      ]
    },
    {
      "cell_type": "code",
      "execution_count": 40,
      "id": "84beaecd",
      "metadata": {
        "id": "84beaecd",
        "outputId": "5045cc9a-d989-4c79-b2a3-de01e399fd18",
        "colab": {
          "base_uri": "https://localhost:8080/",
          "height": 0
        }
      },
      "outputs": [
        {
          "output_type": "execute_result",
          "data": {
            "text/plain": [
              "     spring_temps  summer_temps  autumn_temps  winter_temps\n",
              "0        8.563000     14.518333      8.890000      2.963000\n",
              "1        6.735000     14.116000     10.673000      1.729000\n",
              "2        7.035500           NaN      7.587000      2.717000\n",
              "3        8.627333     14.608333      9.212333      1.104333\n",
              "4        9.074333     14.208333      8.957333      1.637333\n",
              "..            ...           ...           ...           ...\n",
              "261      9.190000     14.954667     10.026000      3.893333\n",
              "262      9.429667     14.762667     10.208000      3.629000\n",
              "263      9.166667     14.771000     10.278000      4.210333\n",
              "264      9.516333     14.694333     10.044667      4.027333\n",
              "265      9.455000     14.770333     10.411000      4.687667\n",
              "\n",
              "[266 rows x 4 columns]"
            ],
            "text/html": [
              "\n",
              "  <div id=\"df-1b97ba87-4547-4a11-9712-2457daecdcbb\">\n",
              "    <div class=\"colab-df-container\">\n",
              "      <div>\n",
              "<style scoped>\n",
              "    .dataframe tbody tr th:only-of-type {\n",
              "        vertical-align: middle;\n",
              "    }\n",
              "\n",
              "    .dataframe tbody tr th {\n",
              "        vertical-align: top;\n",
              "    }\n",
              "\n",
              "    .dataframe thead th {\n",
              "        text-align: right;\n",
              "    }\n",
              "</style>\n",
              "<table border=\"1\" class=\"dataframe\">\n",
              "  <thead>\n",
              "    <tr style=\"text-align: right;\">\n",
              "      <th></th>\n",
              "      <th>spring_temps</th>\n",
              "      <th>summer_temps</th>\n",
              "      <th>autumn_temps</th>\n",
              "      <th>winter_temps</th>\n",
              "    </tr>\n",
              "  </thead>\n",
              "  <tbody>\n",
              "    <tr>\n",
              "      <th>0</th>\n",
              "      <td>8.563000</td>\n",
              "      <td>14.518333</td>\n",
              "      <td>8.890000</td>\n",
              "      <td>2.963000</td>\n",
              "    </tr>\n",
              "    <tr>\n",
              "      <th>1</th>\n",
              "      <td>6.735000</td>\n",
              "      <td>14.116000</td>\n",
              "      <td>10.673000</td>\n",
              "      <td>1.729000</td>\n",
              "    </tr>\n",
              "    <tr>\n",
              "      <th>2</th>\n",
              "      <td>7.035500</td>\n",
              "      <td>NaN</td>\n",
              "      <td>7.587000</td>\n",
              "      <td>2.717000</td>\n",
              "    </tr>\n",
              "    <tr>\n",
              "      <th>3</th>\n",
              "      <td>8.627333</td>\n",
              "      <td>14.608333</td>\n",
              "      <td>9.212333</td>\n",
              "      <td>1.104333</td>\n",
              "    </tr>\n",
              "    <tr>\n",
              "      <th>4</th>\n",
              "      <td>9.074333</td>\n",
              "      <td>14.208333</td>\n",
              "      <td>8.957333</td>\n",
              "      <td>1.637333</td>\n",
              "    </tr>\n",
              "    <tr>\n",
              "      <th>...</th>\n",
              "      <td>...</td>\n",
              "      <td>...</td>\n",
              "      <td>...</td>\n",
              "      <td>...</td>\n",
              "    </tr>\n",
              "    <tr>\n",
              "      <th>261</th>\n",
              "      <td>9.190000</td>\n",
              "      <td>14.954667</td>\n",
              "      <td>10.026000</td>\n",
              "      <td>3.893333</td>\n",
              "    </tr>\n",
              "    <tr>\n",
              "      <th>262</th>\n",
              "      <td>9.429667</td>\n",
              "      <td>14.762667</td>\n",
              "      <td>10.208000</td>\n",
              "      <td>3.629000</td>\n",
              "    </tr>\n",
              "    <tr>\n",
              "      <th>263</th>\n",
              "      <td>9.166667</td>\n",
              "      <td>14.771000</td>\n",
              "      <td>10.278000</td>\n",
              "      <td>4.210333</td>\n",
              "    </tr>\n",
              "    <tr>\n",
              "      <th>264</th>\n",
              "      <td>9.516333</td>\n",
              "      <td>14.694333</td>\n",
              "      <td>10.044667</td>\n",
              "      <td>4.027333</td>\n",
              "    </tr>\n",
              "    <tr>\n",
              "      <th>265</th>\n",
              "      <td>9.455000</td>\n",
              "      <td>14.770333</td>\n",
              "      <td>10.411000</td>\n",
              "      <td>4.687667</td>\n",
              "    </tr>\n",
              "  </tbody>\n",
              "</table>\n",
              "<p>266 rows × 4 columns</p>\n",
              "</div>\n",
              "      <button class=\"colab-df-convert\" onclick=\"convertToInteractive('df-1b97ba87-4547-4a11-9712-2457daecdcbb')\"\n",
              "              title=\"Convert this dataframe to an interactive table.\"\n",
              "              style=\"display:none;\">\n",
              "        \n",
              "  <svg xmlns=\"http://www.w3.org/2000/svg\" height=\"24px\"viewBox=\"0 0 24 24\"\n",
              "       width=\"24px\">\n",
              "    <path d=\"M0 0h24v24H0V0z\" fill=\"none\"/>\n",
              "    <path d=\"M18.56 5.44l.94 2.06.94-2.06 2.06-.94-2.06-.94-.94-2.06-.94 2.06-2.06.94zm-11 1L8.5 8.5l.94-2.06 2.06-.94-2.06-.94L8.5 2.5l-.94 2.06-2.06.94zm10 10l.94 2.06.94-2.06 2.06-.94-2.06-.94-.94-2.06-.94 2.06-2.06.94z\"/><path d=\"M17.41 7.96l-1.37-1.37c-.4-.4-.92-.59-1.43-.59-.52 0-1.04.2-1.43.59L10.3 9.45l-7.72 7.72c-.78.78-.78 2.05 0 2.83L4 21.41c.39.39.9.59 1.41.59.51 0 1.02-.2 1.41-.59l7.78-7.78 2.81-2.81c.8-.78.8-2.07 0-2.86zM5.41 20L4 18.59l7.72-7.72 1.47 1.35L5.41 20z\"/>\n",
              "  </svg>\n",
              "      </button>\n",
              "      \n",
              "  <style>\n",
              "    .colab-df-container {\n",
              "      display:flex;\n",
              "      flex-wrap:wrap;\n",
              "      gap: 12px;\n",
              "    }\n",
              "\n",
              "    .colab-df-convert {\n",
              "      background-color: #E8F0FE;\n",
              "      border: none;\n",
              "      border-radius: 50%;\n",
              "      cursor: pointer;\n",
              "      display: none;\n",
              "      fill: #1967D2;\n",
              "      height: 32px;\n",
              "      padding: 0 0 0 0;\n",
              "      width: 32px;\n",
              "    }\n",
              "\n",
              "    .colab-df-convert:hover {\n",
              "      background-color: #E2EBFA;\n",
              "      box-shadow: 0px 1px 2px rgba(60, 64, 67, 0.3), 0px 1px 3px 1px rgba(60, 64, 67, 0.15);\n",
              "      fill: #174EA6;\n",
              "    }\n",
              "\n",
              "    [theme=dark] .colab-df-convert {\n",
              "      background-color: #3B4455;\n",
              "      fill: #D2E3FC;\n",
              "    }\n",
              "\n",
              "    [theme=dark] .colab-df-convert:hover {\n",
              "      background-color: #434B5C;\n",
              "      box-shadow: 0px 1px 3px 1px rgba(0, 0, 0, 0.15);\n",
              "      filter: drop-shadow(0px 1px 2px rgba(0, 0, 0, 0.3));\n",
              "      fill: #FFFFFF;\n",
              "    }\n",
              "  </style>\n",
              "\n",
              "      <script>\n",
              "        const buttonEl =\n",
              "          document.querySelector('#df-1b97ba87-4547-4a11-9712-2457daecdcbb button.colab-df-convert');\n",
              "        buttonEl.style.display =\n",
              "          google.colab.kernel.accessAllowed ? 'block' : 'none';\n",
              "\n",
              "        async function convertToInteractive(key) {\n",
              "          const element = document.querySelector('#df-1b97ba87-4547-4a11-9712-2457daecdcbb');\n",
              "          const dataTable =\n",
              "            await google.colab.kernel.invokeFunction('convertToInteractive',\n",
              "                                                     [key], {});\n",
              "          if (!dataTable) return;\n",
              "\n",
              "          const docLinkHtml = 'Like what you see? Visit the ' +\n",
              "            '<a target=\"_blank\" href=https://colab.research.google.com/notebooks/data_table.ipynb>data table notebook</a>'\n",
              "            + ' to learn more about interactive tables.';\n",
              "          element.innerHTML = '';\n",
              "          dataTable['output_type'] = 'display_data';\n",
              "          await google.colab.output.renderOutput(dataTable, element);\n",
              "          const docLink = document.createElement('div');\n",
              "          docLink.innerHTML = docLinkHtml;\n",
              "          element.appendChild(docLink);\n",
              "        }\n",
              "      </script>\n",
              "    </div>\n",
              "  </div>\n",
              "  "
            ]
          },
          "metadata": {},
          "execution_count": 40
        }
      ],
      "source": [
        "season[['spring_temps', 'summer_temps', 'autumn_temps',\n",
        "       'winter_temps']]"
      ]
    },
    {
      "cell_type": "code",
      "execution_count": 41,
      "id": "248b594c",
      "metadata": {
        "id": "248b594c",
        "outputId": "54448d14-7adb-4efe-c658-6b69ef49d7b1",
        "colab": {
          "base_uri": "https://localhost:8080/",
          "height": 0
        }
      },
      "outputs": [
        {
          "output_type": "execute_result",
          "data": {
            "text/plain": [
              "<matplotlib.legend.Legend at 0x7ff50aa4a350>"
            ]
          },
          "metadata": {},
          "execution_count": 41
        },
        {
          "output_type": "display_data",
          "data": {
            "text/plain": [
              "<Figure size 1152x720 with 1 Axes>"
            ],
            "image/png": "[encoded data removed]"
          },
          "metadata": {
            "needs_background": "light"
          }
        }
      ],
      "source": [
        "plt.figure(figsize=(16,10))\n",
        "plt.plot(season['years'],season[['spring_temps', 'summer_temps', 'autumn_temps',\n",
        "       'winter_temps']])\n",
        "\n",
        "plt.legend(['spring_temps', 'summer_temps', 'autumn_temps',\n",
        "       'winter_temps'])"
      ]
    },
    {
      "cell_type": "markdown",
      "id": "6fe9e338",
      "metadata": {
        "id": "6fe9e338"
      },
      "source": [
        "    Is it getting warmer? Yes, it is."
      ]
    },
    {
      "cell_type": "code",
      "execution_count": 41,
      "id": "d52dc57e",
      "metadata": {
        "id": "d52dc57e"
      },
      "outputs": [],
      "source": []
    },
    {
      "cell_type": "code",
      "execution_count": 41,
      "id": "eb81ff24",
      "metadata": {
        "id": "eb81ff24"
      },
      "outputs": [],
      "source": []
    },
    {
      "cell_type": "markdown",
      "id": "4842b02e",
      "metadata": {
        "id": "4842b02e"
      },
      "source": [
        "# 4.. how to prepare your data for Time series Modelling..\n",
        "    Prepare your data for Modelling.. (lets do sampling \n",
        "        of data & then pre-processing of data )"
      ]
    },
    {
      "cell_type": "code",
      "execution_count": 42,
      "id": "e937412b",
      "metadata": {
        "id": "e937412b",
        "outputId": "8a333e44-cbc7-4031-ad68-94b61f4232aa",
        "colab": {
          "base_uri": "https://localhost:8080/",
          "height": 399
        }
      },
      "outputs": [
        {
          "output_type": "error",
          "ename": "FileNotFoundError",
          "evalue": "ignored",
          "traceback": [
            "\u001b[0;31m---------------------------------------------------------------------------\u001b[0m",
            "\u001b[0;31mFileNotFoundError\u001b[0m                         Traceback (most recent call last)",
            "\u001b[0;32m<ipython-input-42-75bec444de44>\u001b[0m in \u001b[0;36m<module>\u001b[0;34m\u001b[0m\n\u001b[1;32m      1\u001b[0m \u001b[0;31m### lets read 'GlobalLandTemperaturesByCity.csv'\u001b[0m\u001b[0;34m\u001b[0m\u001b[0;34m\u001b[0m\u001b[0;34m\u001b[0m\u001b[0m\n\u001b[1;32m      2\u001b[0m \u001b[0;34m\u001b[0m\u001b[0m\n\u001b[0;32m----> 3\u001b[0;31m \u001b[0mcities\u001b[0m\u001b[0;34m=\u001b[0m\u001b[0mpd\u001b[0m\u001b[0;34m.\u001b[0m\u001b[0mread_csv\u001b[0m\u001b[0;34m(\u001b[0m\u001b[0;34mr'F:\\Time_series_Analysis\\2. Global_Warming\\Dataset/GlobalLandTemperaturesByCity.csv'\u001b[0m\u001b[0;34m)\u001b[0m\u001b[0;34m\u001b[0m\u001b[0;34m\u001b[0m\u001b[0m\n\u001b[0m",
            "\u001b[0;32m/usr/local/lib/python3.7/dist-packages/pandas/util/_decorators.py\u001b[0m in \u001b[0;36mwrapper\u001b[0;34m(*args, **kwargs)\u001b[0m\n\u001b[1;32m    309\u001b[0m                     \u001b[0mstacklevel\u001b[0m\u001b[0;34m=\u001b[0m\u001b[0mstacklevel\u001b[0m\u001b[0;34m,\u001b[0m\u001b[0;34m\u001b[0m\u001b[0;34m\u001b[0m\u001b[0m\n\u001b[1;32m    310\u001b[0m                 )\n\u001b[0;32m--> 311\u001b[0;31m             \u001b[0;32mreturn\u001b[0m \u001b[0mfunc\u001b[0m\u001b[0;34m(\u001b[0m\u001b[0;34m*\u001b[0m\u001b[0margs\u001b[0m\u001b[0;34m,\u001b[0m \u001b[0;34m**\u001b[0m\u001b[0mkwargs\u001b[0m\u001b[0;34m)\u001b[0m\u001b[0;34m\u001b[0m\u001b[0;34m\u001b[0m\u001b[0m\n\u001b[0m\u001b[1;32m    312\u001b[0m \u001b[0;34m\u001b[0m\u001b[0m\n\u001b[1;32m    313\u001b[0m         \u001b[0;32mreturn\u001b[0m \u001b[0mwrapper\u001b[0m\u001b[0;34m\u001b[0m\u001b[0;34m\u001b[0m\u001b[0m\n",
            "\u001b[0;32m/usr/local/lib/python3.7/dist-packages/pandas/io/parsers/readers.py\u001b[0m in \u001b[0;36mread_csv\u001b[0;34m(filepath_or_buffer, sep, delimiter, header, names, index_col, usecols, squeeze, prefix, mangle_dupe_cols, dtype, engine, converters, true_values, false_values, skipinitialspace, skiprows, skipfooter, nrows, na_values, keep_default_na, na_filter, verbose, skip_blank_lines, parse_dates, infer_datetime_format, keep_date_col, date_parser, dayfirst, cache_dates, iterator, chunksize, compression, thousands, decimal, lineterminator, quotechar, quoting, doublequote, escapechar, comment, encoding, encoding_errors, dialect, error_bad_lines, warn_bad_lines, on_bad_lines, delim_whitespace, low_memory, memory_map, float_precision, storage_options)\u001b[0m\n\u001b[1;32m    584\u001b[0m     \u001b[0mkwds\u001b[0m\u001b[0;34m.\u001b[0m\u001b[0mupdate\u001b[0m\u001b[0;34m(\u001b[0m\u001b[0mkwds_defaults\u001b[0m\u001b[0;34m)\u001b[0m\u001b[0;34m\u001b[0m\u001b[0;34m\u001b[0m\u001b[0m\n\u001b[1;32m    585\u001b[0m \u001b[0;34m\u001b[0m\u001b[0m\n\u001b[0;32m--> 586\u001b[0;31m     \u001b[0;32mreturn\u001b[0m \u001b[0m_read\u001b[0m\u001b[0;34m(\u001b[0m\u001b[0mfilepath_or_buffer\u001b[0m\u001b[0;34m,\u001b[0m \u001b[0mkwds\u001b[0m\u001b[0;34m)\u001b[0m\u001b[0;34m\u001b[0m\u001b[0;34m\u001b[0m\u001b[0m\n\u001b[0m\u001b[1;32m    587\u001b[0m \u001b[0;34m\u001b[0m\u001b[0m\n\u001b[1;32m    588\u001b[0m \u001b[0;34m\u001b[0m\u001b[0m\n",
            "\u001b[0;32m/usr/local/lib/python3.7/dist-packages/pandas/io/parsers/readers.py\u001b[0m in \u001b[0;36m_read\u001b[0;34m(filepath_or_buffer, kwds)\u001b[0m\n\u001b[1;32m    480\u001b[0m \u001b[0;34m\u001b[0m\u001b[0m\n\u001b[1;32m    481\u001b[0m     \u001b[0;31m# Create the parser.\u001b[0m\u001b[0;34m\u001b[0m\u001b[0;34m\u001b[0m\u001b[0;34m\u001b[0m\u001b[0m\n\u001b[0;32m--> 482\u001b[0;31m     \u001b[0mparser\u001b[0m \u001b[0;34m=\u001b[0m \u001b[0mTextFileReader\u001b[0m\u001b[0;34m(\u001b[0m\u001b[0mfilepath_or_buffer\u001b[0m\u001b[0;34m,\u001b[0m \u001b[0;34m**\u001b[0m\u001b[0mkwds\u001b[0m\u001b[0;34m)\u001b[0m\u001b[0;34m\u001b[0m\u001b[0;34m\u001b[0m\u001b[0m\n\u001b[0m\u001b[1;32m    483\u001b[0m \u001b[0;34m\u001b[0m\u001b[0m\n\u001b[1;32m    484\u001b[0m     \u001b[0;32mif\u001b[0m \u001b[0mchunksize\u001b[0m \u001b[0;32mor\u001b[0m \u001b[0miterator\u001b[0m\u001b[0;34m:\u001b[0m\u001b[0;34m\u001b[0m\u001b[0;34m\u001b[0m\u001b[0m\n",
            "\u001b[0;32m/usr/local/lib/python3.7/dist-packages/pandas/io/parsers/readers.py\u001b[0m in \u001b[0;36m__init__\u001b[0;34m(self, f, engine, **kwds)\u001b[0m\n\u001b[1;32m    809\u001b[0m             \u001b[0mself\u001b[0m\u001b[0;34m.\u001b[0m\u001b[0moptions\u001b[0m\u001b[0;34m[\u001b[0m\u001b[0;34m\"has_index_names\"\u001b[0m\u001b[0;34m]\u001b[0m \u001b[0;34m=\u001b[0m \u001b[0mkwds\u001b[0m\u001b[0;34m[\u001b[0m\u001b[0;34m\"has_index_names\"\u001b[0m\u001b[0;34m]\u001b[0m\u001b[0;34m\u001b[0m\u001b[0;34m\u001b[0m\u001b[0m\n\u001b[1;32m    810\u001b[0m \u001b[0;34m\u001b[0m\u001b[0m\n\u001b[0;32m--> 811\u001b[0;31m         \u001b[0mself\u001b[0m\u001b[0;34m.\u001b[0m\u001b[0m_engine\u001b[0m \u001b[0;34m=\u001b[0m \u001b[0mself\u001b[0m\u001b[0;34m.\u001b[0m\u001b[0m_make_engine\u001b[0m\u001b[0;34m(\u001b[0m\u001b[0mself\u001b[0m\u001b[0;34m.\u001b[0m\u001b[0mengine\u001b[0m\u001b[0;34m)\u001b[0m\u001b[0;34m\u001b[0m\u001b[0;34m\u001b[0m\u001b[0m\n\u001b[0m\u001b[1;32m    812\u001b[0m \u001b[0;34m\u001b[0m\u001b[0m\n\u001b[1;32m    813\u001b[0m     \u001b[0;32mdef\u001b[0m \u001b[0mclose\u001b[0m\u001b[0;34m(\u001b[0m\u001b[0mself\u001b[0m\u001b[0;34m)\u001b[0m\u001b[0;34m:\u001b[0m\u001b[0;34m\u001b[0m\u001b[0;34m\u001b[0m\u001b[0m\n",
            "\u001b[0;32m/usr/local/lib/python3.7/dist-packages/pandas/io/parsers/readers.py\u001b[0m in \u001b[0;36m_make_engine\u001b[0;34m(self, engine)\u001b[0m\n\u001b[1;32m   1038\u001b[0m             )\n\u001b[1;32m   1039\u001b[0m         \u001b[0;31m# error: Too many arguments for \"ParserBase\"\u001b[0m\u001b[0;34m\u001b[0m\u001b[0;34m\u001b[0m\u001b[0;34m\u001b[0m\u001b[0m\n\u001b[0;32m-> 1040\u001b[0;31m         \u001b[0;32mreturn\u001b[0m \u001b[0mmapping\u001b[0m\u001b[0;34m[\u001b[0m\u001b[0mengine\u001b[0m\u001b[0;34m]\u001b[0m\u001b[0;34m(\u001b[0m\u001b[0mself\u001b[0m\u001b[0;34m.\u001b[0m\u001b[0mf\u001b[0m\u001b[0;34m,\u001b[0m \u001b[0;34m**\u001b[0m\u001b[0mself\u001b[0m\u001b[0;34m.\u001b[0m\u001b[0moptions\u001b[0m\u001b[0;34m)\u001b[0m  \u001b[0;31m# type: ignore[call-arg]\u001b[0m\u001b[0;34m\u001b[0m\u001b[0;34m\u001b[0m\u001b[0m\n\u001b[0m\u001b[1;32m   1041\u001b[0m \u001b[0;34m\u001b[0m\u001b[0m\n\u001b[1;32m   1042\u001b[0m     \u001b[0;32mdef\u001b[0m \u001b[0m_failover_to_python\u001b[0m\u001b[0;34m(\u001b[0m\u001b[0mself\u001b[0m\u001b[0;34m)\u001b[0m\u001b[0;34m:\u001b[0m\u001b[0;34m\u001b[0m\u001b[0;34m\u001b[0m\u001b[0m\n",
            "\u001b[0;32m/usr/local/lib/python3.7/dist-packages/pandas/io/parsers/c_parser_wrapper.py\u001b[0m in \u001b[0;36m__init__\u001b[0;34m(self, src, **kwds)\u001b[0m\n\u001b[1;32m     49\u001b[0m \u001b[0;34m\u001b[0m\u001b[0m\n\u001b[1;32m     50\u001b[0m         \u001b[0;31m# open handles\u001b[0m\u001b[0;34m\u001b[0m\u001b[0;34m\u001b[0m\u001b[0;34m\u001b[0m\u001b[0m\n\u001b[0;32m---> 51\u001b[0;31m         \u001b[0mself\u001b[0m\u001b[0;34m.\u001b[0m\u001b[0m_open_handles\u001b[0m\u001b[0;34m(\u001b[0m\u001b[0msrc\u001b[0m\u001b[0;34m,\u001b[0m \u001b[0mkwds\u001b[0m\u001b[0;34m)\u001b[0m\u001b[0;34m\u001b[0m\u001b[0;34m\u001b[0m\u001b[0m\n\u001b[0m\u001b[1;32m     52\u001b[0m         \u001b[0;32massert\u001b[0m \u001b[0mself\u001b[0m\u001b[0;34m.\u001b[0m\u001b[0mhandles\u001b[0m \u001b[0;32mis\u001b[0m \u001b[0;32mnot\u001b[0m \u001b[0;32mNone\u001b[0m\u001b[0;34m\u001b[0m\u001b[0;34m\u001b[0m\u001b[0m\n\u001b[1;32m     53\u001b[0m \u001b[0;34m\u001b[0m\u001b[0m\n",
            "\u001b[0;32m/usr/local/lib/python3.7/dist-packages/pandas/io/parsers/base_parser.py\u001b[0m in \u001b[0;36m_open_handles\u001b[0;34m(self, src, kwds)\u001b[0m\n\u001b[1;32m    227\u001b[0m             \u001b[0mmemory_map\u001b[0m\u001b[0;34m=\u001b[0m\u001b[0mkwds\u001b[0m\u001b[0;34m.\u001b[0m\u001b[0mget\u001b[0m\u001b[0;34m(\u001b[0m\u001b[0;34m\"memory_map\"\u001b[0m\u001b[0;34m,\u001b[0m \u001b[0;32mFalse\u001b[0m\u001b[0;34m)\u001b[0m\u001b[0;34m,\u001b[0m\u001b[0;34m\u001b[0m\u001b[0;34m\u001b[0m\u001b[0m\n\u001b[1;32m    228\u001b[0m             \u001b[0mstorage_options\u001b[0m\u001b[0;34m=\u001b[0m\u001b[0mkwds\u001b[0m\u001b[0;34m.\u001b[0m\u001b[0mget\u001b[0m\u001b[0;34m(\u001b[0m\u001b[0;34m\"storage_options\"\u001b[0m\u001b[0;34m,\u001b[0m \u001b[0;32mNone\u001b[0m\u001b[0;34m)\u001b[0m\u001b[0;34m,\u001b[0m\u001b[0;34m\u001b[0m\u001b[0;34m\u001b[0m\u001b[0m\n\u001b[0;32m--> 229\u001b[0;31m             \u001b[0merrors\u001b[0m\u001b[0;34m=\u001b[0m\u001b[0mkwds\u001b[0m\u001b[0;34m.\u001b[0m\u001b[0mget\u001b[0m\u001b[0;34m(\u001b[0m\u001b[0;34m\"encoding_errors\"\u001b[0m\u001b[0;34m,\u001b[0m \u001b[0;34m\"strict\"\u001b[0m\u001b[0;34m)\u001b[0m\u001b[0;34m,\u001b[0m\u001b[0;34m\u001b[0m\u001b[0;34m\u001b[0m\u001b[0m\n\u001b[0m\u001b[1;32m    230\u001b[0m         )\n\u001b[1;32m    231\u001b[0m \u001b[0;34m\u001b[0m\u001b[0m\n",
            "\u001b[0;32m/usr/local/lib/python3.7/dist-packages/pandas/io/common.py\u001b[0m in \u001b[0;36mget_handle\u001b[0;34m(path_or_buf, mode, encoding, compression, memory_map, is_text, errors, storage_options)\u001b[0m\n\u001b[1;32m    705\u001b[0m                 \u001b[0mencoding\u001b[0m\u001b[0;34m=\u001b[0m\u001b[0mioargs\u001b[0m\u001b[0;34m.\u001b[0m\u001b[0mencoding\u001b[0m\u001b[0;34m,\u001b[0m\u001b[0;34m\u001b[0m\u001b[0;34m\u001b[0m\u001b[0m\n\u001b[1;32m    706\u001b[0m                 \u001b[0merrors\u001b[0m\u001b[0;34m=\u001b[0m\u001b[0merrors\u001b[0m\u001b[0;34m,\u001b[0m\u001b[0;34m\u001b[0m\u001b[0;34m\u001b[0m\u001b[0m\n\u001b[0;32m--> 707\u001b[0;31m                 \u001b[0mnewline\u001b[0m\u001b[0;34m=\u001b[0m\u001b[0;34m\"\"\u001b[0m\u001b[0;34m,\u001b[0m\u001b[0;34m\u001b[0m\u001b[0;34m\u001b[0m\u001b[0m\n\u001b[0m\u001b[1;32m    708\u001b[0m             )\n\u001b[1;32m    709\u001b[0m         \u001b[0;32melse\u001b[0m\u001b[0;34m:\u001b[0m\u001b[0;34m\u001b[0m\u001b[0;34m\u001b[0m\u001b[0m\n",
            "\u001b[0;31mFileNotFoundError\u001b[0m: [Errno 2] No such file or directory: 'F:\\\\Time_series_Analysis\\\\2. Global_Warming\\\\Dataset/GlobalLandTemperaturesByCity.csv'"
          ]
        }
      ],
      "source": [
        "### lets read 'GlobalLandTemperaturesByCity.csv'\n",
        "\n",
        "cities=pd.read_csv(r'F:\\Time_series_Analysis\\2. Global_Warming\\Dataset/GlobalLandTemperaturesByCity.csv')"
      ]
    },
    {
      "cell_type": "code",
      "execution_count": null,
      "id": "079e0f42",
      "metadata": {
        "id": "079e0f42"
      },
      "outputs": [],
      "source": [
        "cities.shape"
      ]
    },
    {
      "cell_type": "markdown",
      "id": "42847eec",
      "metadata": {
        "id": "42847eec"
      },
      "source": [
        "#### how to do sampling in data..\n",
        "    1.. Random sampling\n",
        "    2.. we say pick first 1M or last 1M points..\n",
        "    3.. we say we pick data for Top economies.. (Russia ,USA ,\n",
        "             UK ,India ,France etc.. )\n",
        "             \n",
        "         or pick data for some cities of USA , eg \n",
        "         ['New York','Los Angeles','San Francisco' ,'Mumbai' ,'Delhi']"
      ]
    },
    {
      "cell_type": "code",
      "execution_count": null,
      "id": "fa8907a5",
      "metadata": {
        "id": "fa8907a5"
      },
      "outputs": [],
      "source": [
        "## finding unique countries in 'country' feature..\n",
        "\n",
        "cities['Country'].unique()"
      ]
    },
    {
      "cell_type": "code",
      "execution_count": null,
      "id": "a6cca589",
      "metadata": {
        "id": "a6cca589"
      },
      "outputs": [],
      "source": [
        "## creating separate datafrme for 'United States' only..\n",
        "\n",
        "usa=cities[cities['Country']=='United States']"
      ]
    },
    {
      "cell_type": "code",
      "execution_count": null,
      "id": "5d0b1ac1",
      "metadata": {
        "id": "5d0b1ac1"
      },
      "outputs": [],
      "source": [
        "usa.columns"
      ]
    },
    {
      "cell_type": "code",
      "execution_count": null,
      "id": "c221428d",
      "metadata": {
        "id": "c221428d"
      },
      "outputs": [],
      "source": [
        "## unique cities in 'usa'..\n",
        "\n",
        "usa['City'].unique()"
      ]
    },
    {
      "cell_type": "code",
      "execution_count": null,
      "id": "8c5e2ca3",
      "metadata": {
        "id": "8c5e2ca3"
      },
      "outputs": [],
      "source": [
        "## considering data of ['New York','Los Angeles','San Francisco'] in my usa dataframe..\n",
        "\n",
        "usa_cities=['New York','Los Angeles','San Francisco']"
      ]
    },
    {
      "cell_type": "code",
      "execution_count": null,
      "id": "2819414c",
      "metadata": {
        "id": "2819414c"
      },
      "outputs": [],
      "source": [
        "data2=usa[usa['City'].isin(usa_cities)]"
      ]
    },
    {
      "cell_type": "code",
      "execution_count": null,
      "id": "7a7d5ca5",
      "metadata": {
        "id": "7a7d5ca5"
      },
      "outputs": [],
      "source": [
        "data2.shape"
      ]
    },
    {
      "cell_type": "code",
      "execution_count": null,
      "id": "34742239",
      "metadata": {
        "id": "34742239"
      },
      "outputs": [],
      "source": [
        "data2.head(3)"
      ]
    },
    {
      "cell_type": "code",
      "execution_count": null,
      "id": "e8bf929e",
      "metadata": {
        "id": "e8bf929e"
      },
      "outputs": [],
      "source": [
        "data2=data2[['dt','AverageTemperature']]"
      ]
    },
    {
      "cell_type": "code",
      "execution_count": null,
      "id": "02e7e5bc",
      "metadata": {
        "id": "02e7e5bc"
      },
      "outputs": [],
      "source": [
        "data2.head(2)"
      ]
    },
    {
      "cell_type": "code",
      "execution_count": null,
      "id": "6d28f447",
      "metadata": {
        "id": "6d28f447"
      },
      "outputs": [],
      "source": [
        "## assigning your own column name..\n",
        "\n",
        "data2.columns=['Date','Temp']"
      ]
    },
    {
      "cell_type": "code",
      "execution_count": null,
      "id": "28bff914",
      "metadata": {
        "id": "28bff914"
      },
      "outputs": [],
      "source": [
        "data2"
      ]
    },
    {
      "cell_type": "code",
      "execution_count": null,
      "id": "b32f2ef4",
      "metadata": {
        "id": "b32f2ef4"
      },
      "outputs": [],
      "source": [
        "data2.dtypes"
      ]
    },
    {
      "cell_type": "code",
      "execution_count": null,
      "id": "7b6328d9",
      "metadata": {
        "id": "7b6328d9"
      },
      "outputs": [],
      "source": [
        "## converting data-type of 'Date' feature into date-time ..\n",
        "\n",
        "data2['Date']=pd.to_datetime(data2['Date'])"
      ]
    },
    {
      "cell_type": "code",
      "execution_count": null,
      "id": "095ac499",
      "metadata": {
        "id": "095ac499"
      },
      "outputs": [],
      "source": [
        "data2.dtypes"
      ]
    },
    {
      "cell_type": "code",
      "execution_count": null,
      "id": "c665fcd2",
      "metadata": {
        "id": "c665fcd2"
      },
      "outputs": [],
      "source": [
        "## total missing values in each of the feature..\n",
        "\n",
        "data2.isnull().sum()"
      ]
    },
    {
      "cell_type": "code",
      "execution_count": null,
      "id": "213976a9",
      "metadata": {
        "id": "213976a9"
      },
      "outputs": [],
      "source": [
        "## dropping the missing values..\n",
        "\n",
        "data2.dropna(inplace=True)"
      ]
    },
    {
      "cell_type": "code",
      "execution_count": null,
      "id": "4293c0fa",
      "metadata": {
        "id": "4293c0fa"
      },
      "outputs": [],
      "source": [
        "data2.head(3)"
      ]
    },
    {
      "cell_type": "markdown",
      "id": "a9a74cbf",
      "metadata": {
        "id": "a9a74cbf"
      },
      "source": [
        "    note:   for Machine Learning,feature is a columns & we have \n",
        "               by-default index as from 0 but for our time series \n",
        "               Problem,we have date column our as row-index"
      ]
    },
    {
      "cell_type": "code",
      "execution_count": null,
      "id": "f3b94300",
      "metadata": {
        "id": "f3b94300"
      },
      "outputs": [],
      "source": [
        "data2.set_index('Date',inplace=True)"
      ]
    },
    {
      "cell_type": "code",
      "execution_count": null,
      "id": "e25eea07",
      "metadata": {
        "id": "e25eea07"
      },
      "outputs": [],
      "source": [
        "data2.head(4)"
      ]
    },
    {
      "cell_type": "code",
      "execution_count": null,
      "id": "24b8bf6e",
      "metadata": {
        "id": "24b8bf6e"
      },
      "outputs": [],
      "source": []
    },
    {
      "cell_type": "code",
      "execution_count": null,
      "id": "5e52ecaa",
      "metadata": {
        "id": "5e52ecaa"
      },
      "outputs": [],
      "source": []
    },
    {
      "cell_type": "code",
      "execution_count": null,
      "id": "89e4629b",
      "metadata": {
        "id": "89e4629b"
      },
      "outputs": [],
      "source": []
    },
    {
      "cell_type": "markdown",
      "id": "d93116ed",
      "metadata": {
        "id": "d93116ed"
      },
      "source": [
        "# 5.. How to find whether data has Seasonality factor or not..\n",
        "      we will try to convert our seasonal data into stationary bcz Time SEries algos works phenomenal with stationary data..\n",
        "\n",
        "    lets understand what is seasoanlity ,stationary & couple of Time series Terms..\n",
        "\n",
        "    seasonality ->> When mean & variance is not constant throughout the data ,\n",
        "                    ie data has a trend here..\n",
        "                    \n",
        "    stationary data ->>  so data that has no trend ie that has constant \n",
        "                       mean & std dev throughout data..\n",
        "                       \n",
        "    if not stationary then we have to make it stationary using various manipulations..\n",
        "\n",
        "\n",
        "    Seasonality is opposite of stationary ,ie \n",
        "        A time series with a clear seasonal component is referred to as non-stationary...\n",
        "        \n",
        "        ie the goal is we have to convert seasonal data into stationary data..\n",
        "        \n",
        "        \n",
        "        \n",
        "        a)Visualisation approach\n",
        "    \n",
        "    (seasonality is all about suppose in each yr in christmas sales goes up) and then down ,\n",
        "       ie this is a cycle that repeats over time, such as monthly or yearly. \n",
        "       \n",
        "       There are many types of seasonality; \n",
        "       for example:\n",
        "\n",
        "    Time of Day.\n",
        "    Daily.\n",
        "    Weekly.\n",
        "    Monthly.\n",
        "    Yearly.\n",
        "    Once seasonality is identified, it can be removed\n",
        "\n",
        "    The model of seasonality can be removed from the time series. \n",
        "    This process is called Seasonal Adjustment, or Deseasonalizing.\n",
        "    A time series where the seasonal component has been removed is called seasonal stationary.\n",
        "    A time series with a clear seasonal component is referred to as non-stationary.\n",
        "https://machinelearningmastery.com/time-series-seasonality-with-python/\n",
        "\n",
        "        "
      ]
    },
    {
      "cell_type": "code",
      "execution_count": null,
      "id": "2bdaefc6",
      "metadata": {
        "id": "2bdaefc6"
      },
      "outputs": [],
      "source": []
    },
    {
      "cell_type": "code",
      "execution_count": null,
      "id": "70765ac9",
      "metadata": {
        "id": "70765ac9"
      },
      "outputs": [],
      "source": [
        "###  i'm going to create a pivot table to plot the monthly temperatures through the years\n",
        "## so I need 'year' & 'month' feature..\n",
        "\n",
        "data2['year']=data2.index.year"
      ]
    },
    {
      "cell_type": "code",
      "execution_count": null,
      "id": "35a63538",
      "metadata": {
        "id": "35a63538"
      },
      "outputs": [],
      "source": [
        "data2['month']=data2.index.month"
      ]
    },
    {
      "cell_type": "code",
      "execution_count": null,
      "id": "78d4b2b5",
      "metadata": {
        "id": "78d4b2b5"
      },
      "outputs": [],
      "source": [
        "data2.head(3)"
      ]
    },
    {
      "cell_type": "code",
      "execution_count": null,
      "id": "133f0973",
      "metadata": {
        "id": "133f0973"
      },
      "outputs": [],
      "source": []
    },
    {
      "cell_type": "code",
      "execution_count": null,
      "id": "2552f3a0",
      "metadata": {
        "id": "2552f3a0"
      },
      "outputs": [],
      "source": [
        "## creating a pivot table :\n",
        "\n",
        "pivot=data2.pivot_table(values='Temp',index='month',columns='year')"
      ]
    },
    {
      "cell_type": "code",
      "execution_count": null,
      "id": "9b8d38ce",
      "metadata": {
        "id": "9b8d38ce"
      },
      "outputs": [],
      "source": [
        "pivot"
      ]
    },
    {
      "cell_type": "code",
      "execution_count": null,
      "id": "5b287b24",
      "metadata": {
        "id": "5b287b24"
      },
      "outputs": [],
      "source": [
        "## if we want to plot with respect to time or index of dataframe ,  we can use pivot.plot() function of pandas ..\n",
        "\n",
        "\n",
        "pivot.plot(figsize=(20,8))\n",
        "plt.legend().remove()\n",
        "plt.xlabel('Months')\n",
        "plt.ylabel('Temperatures')"
      ]
    },
    {
      "cell_type": "markdown",
      "id": "b660c8cf",
      "metadata": {
        "id": "b660c8cf"
      },
      "source": [
        "    looking this graph,we can say this data is seasonal\n",
        "        The series clearly has some seasonality, the higher temperatures \n",
        "        are around b/w June & August and the lower are between December & Feb\n",
        "        so thats basically a observation that u can drawn and represent to ur client..\n"
      ]
    },
    {
      "cell_type": "code",
      "execution_count": null,
      "id": "8d86e9be",
      "metadata": {
        "id": "8d86e9be"
      },
      "outputs": [],
      "source": []
    },
    {
      "cell_type": "code",
      "execution_count": null,
      "id": "2d1f4c4f",
      "metadata": {
        "id": "2d1f4c4f"
      },
      "outputs": [],
      "source": []
    },
    {
      "cell_type": "markdown",
      "id": "aaf587ee",
      "metadata": {
        "id": "aaf587ee"
      },
      "source": [
        "# 6.. How to find whether data is stationary or not.."
      ]
    },
    {
      "cell_type": "markdown",
      "id": "2f018cbf",
      "metadata": {
        "id": "2f018cbf"
      },
      "source": [
        "### ways to find that...\n",
        "    a.. using data visualisation (lineplot to find out \n",
        "                               whats a trend of data)\n",
        "                               \n",
        "    b.. Evaluating the descriptive statistics ( ie compute\n",
        "                 mean & variance of various chunks of data )\n",
        "https://www.geeksforgeeks.org/how-to-check-if-time-series-data-is-stationary-with-python/\n",
        "\n",
        "    c.. using statistical Tests (AD-Fuller , KPSS Test )"
      ]
    },
    {
      "cell_type": "code",
      "execution_count": null,
      "id": "2dc330d9",
      "metadata": {
        "id": "2dc330d9"
      },
      "outputs": [],
      "source": [
        "### checking whether data is stationary or not..\n",
        "\n",
        "data2['Temp'].plot(figsize=(20,12))"
      ]
    },
    {
      "cell_type": "code",
      "execution_count": null,
      "id": "5a0c1b34",
      "metadata": {
        "id": "5a0c1b34"
      },
      "outputs": [],
      "source": [
        "'''\n",
        "It seems that data is seasonal in nature.. The spread of the data indicates that there is a significant variation in the data. \n",
        "To flatten the growing variance, we need to transform the data.\n",
        "\n",
        "A recurring pattern with a defined and predictable regularity dependent on the time of year, week, or day \n",
        "is referred to as seasonality.\n",
        "\n",
        "\n",
        "\n",
        "'''"
      ]
    },
    {
      "cell_type": "code",
      "execution_count": null,
      "id": "d1fa41af",
      "metadata": {
        "id": "d1fa41af"
      },
      "outputs": [],
      "source": []
    },
    {
      "cell_type": "markdown",
      "id": "a65df08f",
      "metadata": {
        "id": "a65df08f"
      },
      "source": [
        "#### b.. using statistical Tests\n",
        "https://analyticsindiamag.com/how-to-make-a-time-series-stationary/\n",
        "\n",
        "\n",
        "    >> Ad-fuller Test\n",
        "    >> Kwiatkowski Phillips Schmidt Shin (KPSS) test:"
      ]
    },
    {
      "cell_type": "code",
      "execution_count": null,
      "id": "ca0c9f18",
      "metadata": {
        "id": "ca0c9f18"
      },
      "outputs": [],
      "source": [
        "### Testing For Stationarity using Augmented Dickey-Fuller test..\n",
        "\n",
        "from statsmodels.tsa.stattools import adfuller"
      ]
    },
    {
      "cell_type": "code",
      "execution_count": null,
      "id": "2a188695",
      "metadata": {
        "id": "2a188695"
      },
      "outputs": [],
      "source": [
        "adfuller(data2['Temp'])"
      ]
    },
    {
      "cell_type": "code",
      "execution_count": null,
      "id": "19d8e1cd",
      "metadata": {
        "id": "19d8e1cd"
      },
      "outputs": [],
      "source": [
        "'''\n",
        "adfuller gives 5 values ['ADF Test Statistic','p-value','#Lags Used','Number of Observations Used','critical values']\n",
        "\n",
        "most imp is p-value\n",
        "p-value concept is almost similar to Hypothesis testing,\n",
        "Hypothesis Testing have 2 Hypothesis(Alternate & Null Hypothesis)\n",
        "\n",
        "Null hypo says Data is not Stationery\n",
        "whereas Alternate hypo says data is stationery\n",
        "\n",
        "lags are those which are our previous Data\n",
        "\n",
        "'''"
      ]
    },
    {
      "cell_type": "code",
      "execution_count": null,
      "id": "106aa4f8",
      "metadata": {
        "id": "106aa4f8"
      },
      "outputs": [],
      "source": [
        "#if Pvalue<0.05 ,we reject Null hypo ie alternate hypo is \n",
        "# true,ie data is stationery"
      ]
    },
    {
      "cell_type": "code",
      "execution_count": null,
      "id": "084cc1cf",
      "metadata": {
        "id": "084cc1cf"
      },
      "outputs": [],
      "source": [
        "#Ho: ie null hypoIt is non stationary\n",
        "#H1: ie Alternate Hypo ,It is stationary\n",
        "#zip basically combines result,labels"
      ]
    },
    {
      "cell_type": "code",
      "execution_count": null,
      "id": "b1b2c1c4",
      "metadata": {
        "id": "b1b2c1c4"
      },
      "outputs": [],
      "source": [
        "def adfuller_test(data):\n",
        "    result=adfuller(data)\n",
        "    \n",
        "    labels=['ADF Test statistics','p-value','lags_used','nobs']\n",
        "    \n",
        "    for value,label in zip(result,labels):\n",
        "        print(label + ' : ' + str(value))\n",
        "    if result[1] <=0.05:\n",
        "        print('reject the Ho ,data is stationary')\n",
        "    else:\n",
        "        print('fail to reject the Ho ,data is not stationary')\n",
        "    "
      ]
    },
    {
      "cell_type": "code",
      "execution_count": null,
      "id": "9d480f03",
      "metadata": {
        "id": "9d480f03"
      },
      "outputs": [],
      "source": [
        "adfuller_test(data2['Temp'])"
      ]
    },
    {
      "cell_type": "code",
      "execution_count": null,
      "id": "4428dc11",
      "metadata": {
        "id": "4428dc11"
      },
      "outputs": [],
      "source": []
    },
    {
      "cell_type": "markdown",
      "id": "db1de9ae",
      "metadata": {
        "id": "db1de9ae"
      },
      "source": [
        "# 7.. How to make your data stationary .."
      ]
    },
    {
      "cell_type": "markdown",
      "id": "3163a9b7",
      "metadata": {
        "id": "3163a9b7"
      },
      "source": [
        "#### Now data is not non-stationary ,ie we have to make it stationary..\n",
        "    using log , sq root , cube root , differencing etc..."
      ]
    },
    {
      "cell_type": "code",
      "execution_count": null,
      "id": "0151f6c5",
      "metadata": {
        "id": "0151f6c5"
      },
      "outputs": [],
      "source": []
    },
    {
      "cell_type": "code",
      "execution_count": null,
      "id": "10b0acfc",
      "metadata": {
        "id": "10b0acfc"
      },
      "outputs": [],
      "source": [
        "##data2['Temp'].head(10)"
      ]
    },
    {
      "cell_type": "code",
      "execution_count": null,
      "id": "4fa004e6",
      "metadata": {
        "scrolled": true,
        "id": "4fa004e6"
      },
      "outputs": [],
      "source": [
        "##data2['Temp'].shift(3).head(10)"
      ]
    },
    {
      "cell_type": "code",
      "execution_count": null,
      "id": "a7459316",
      "metadata": {
        "id": "a7459316"
      },
      "outputs": [],
      "source": [
        "data2['first_temp_diff']=data2['Temp'] - data2['Temp'].shift(12)"
      ]
    },
    {
      "cell_type": "code",
      "execution_count": null,
      "id": "79438c79",
      "metadata": {
        "id": "79438c79"
      },
      "outputs": [],
      "source": [
        "'''\n",
        "why taken shift(12) , bcz basically year has 12 month cycle , ie in order to remove seasonal component..\n",
        "\n",
        "In previous diagram of pivot table , we have figured out that we have yearly seasonality.. , \n",
        "so lets use shift(12) to remove seasonality \n",
        "\n",
        "'''"
      ]
    },
    {
      "cell_type": "code",
      "execution_count": null,
      "id": "5c0f861f",
      "metadata": {
        "id": "5c0f861f"
      },
      "outputs": [],
      "source": [
        "data2.head(13)"
      ]
    },
    {
      "cell_type": "code",
      "execution_count": null,
      "id": "d023e5d0",
      "metadata": {
        "id": "d023e5d0"
      },
      "outputs": [],
      "source": [
        "## Again perform Aug.dickey fuller test on df['first_diff_temp']\n",
        "\n",
        "adfuller_test(data2['first_temp_diff'].dropna())"
      ]
    },
    {
      "cell_type": "code",
      "execution_count": null,
      "id": "73d557ee",
      "metadata": {
        "id": "73d557ee"
      },
      "outputs": [],
      "source": [
        "''\n",
        "now our p-value is less than 0.05 which basically says we are rejecting null hypo and accepting alternate hypo\n",
        "ie data is stationery\n",
        "\n",
        "Note : if p-value is almost 0, then we can say , we have a wonderful stationary graph\n",
        "\n",
        "'''"
      ]
    },
    {
      "cell_type": "code",
      "execution_count": null,
      "id": "802e5f67",
      "metadata": {
        "id": "802e5f67"
      },
      "outputs": [],
      "source": []
    },
    {
      "cell_type": "code",
      "execution_count": null,
      "id": "3a906cf4",
      "metadata": {
        "id": "3a906cf4"
      },
      "outputs": [],
      "source": [
        "data2['first_temp_diff'].plot(figsize=(20,6))"
      ]
    },
    {
      "cell_type": "code",
      "execution_count": null,
      "id": "8c7591a8",
      "metadata": {
        "id": "8c7591a8"
      },
      "outputs": [],
      "source": []
    },
    {
      "cell_type": "code",
      "execution_count": null,
      "id": "143c930f",
      "metadata": {
        "id": "143c930f"
      },
      "outputs": [],
      "source": []
    },
    {
      "cell_type": "code",
      "execution_count": null,
      "id": "5c714026",
      "metadata": {
        "id": "5c714026"
      },
      "outputs": [],
      "source": []
    },
    {
      "cell_type": "markdown",
      "id": "12361203",
      "metadata": {
        "id": "12361203"
      },
      "source": [
        "# 8.. Lets build Time Series model..\n",
        "    Lets Build a basic moving Avg model  "
      ]
    },
    {
      "cell_type": "markdown",
      "id": "a4263e4a",
      "metadata": {
        "id": "a4263e4a"
      },
      "source": [
        "    types of models in Time-Series :\n",
        "         1.Base line model\n",
        "         2.Exponential model\n",
        "         3.AR model\n",
        "         4.MA model\n",
        "         5.ARIMA model\n",
        "         6.SARIMA model(Seasonal ARIMA)"
      ]
    },
    {
      "cell_type": "code",
      "execution_count": null,
      "id": "c0a35738",
      "metadata": {
        "id": "c0a35738"
      },
      "outputs": [],
      "source": [
        "df=data2[['first_temp_diff']]"
      ]
    },
    {
      "cell_type": "code",
      "execution_count": null,
      "id": "9cc1d534",
      "metadata": {
        "id": "9cc1d534"
      },
      "outputs": [],
      "source": [
        "df.dropna(inplace=True)"
      ]
    },
    {
      "cell_type": "code",
      "execution_count": null,
      "id": "f8d9120b",
      "metadata": {
        "id": "f8d9120b"
      },
      "outputs": [],
      "source": [
        "import warnings\n",
        "from warnings import filterwarnings\n",
        "filterwarnings('ignore')"
      ]
    },
    {
      "cell_type": "code",
      "execution_count": null,
      "id": "05bc394b",
      "metadata": {
        "id": "05bc394b"
      },
      "outputs": [],
      "source": [
        "df.head(10)"
      ]
    },
    {
      "cell_type": "code",
      "execution_count": null,
      "id": "d986be43",
      "metadata": {
        "id": "d986be43"
      },
      "outputs": [],
      "source": [
        "### Smoothening your series using moving average\n",
        "## Rolling is just like a window that you are going to consider or I can say its a window that we have considered for Moving average,\n",
        "## lets say 5 is the window size or 5 is the business period\n",
        "\n",
        "\n",
        "df['Predictions']=df['first_temp_diff'].rolling(window=5).mean()"
      ]
    },
    {
      "cell_type": "code",
      "execution_count": null,
      "id": "65845e86",
      "metadata": {
        "id": "65845e86"
      },
      "outputs": [],
      "source": [
        "df.head(2)"
      ]
    },
    {
      "cell_type": "code",
      "execution_count": null,
      "id": "8001df33",
      "metadata": {
        "id": "8001df33"
      },
      "outputs": [],
      "source": [
        "df.dropna(inplace=True)"
      ]
    },
    {
      "cell_type": "code",
      "execution_count": null,
      "id": "304ce142",
      "metadata": {
        "id": "304ce142"
      },
      "outputs": [],
      "source": [
        "df.head(3)"
      ]
    },
    {
      "cell_type": "code",
      "execution_count": null,
      "id": "1a9d6b00",
      "metadata": {
        "id": "1a9d6b00"
      },
      "outputs": [],
      "source": [
        "df.columns=['actual_temp','forecast_temp']"
      ]
    },
    {
      "cell_type": "code",
      "execution_count": null,
      "id": "c4ca92b6",
      "metadata": {
        "id": "c4ca92b6"
      },
      "outputs": [],
      "source": [
        "df.head(3)"
      ]
    },
    {
      "cell_type": "code",
      "execution_count": null,
      "id": "0f112920",
      "metadata": {
        "id": "0f112920"
      },
      "outputs": [],
      "source": []
    },
    {
      "cell_type": "code",
      "execution_count": null,
      "id": "40f3573c",
      "metadata": {
        "id": "40f3573c"
      },
      "outputs": [],
      "source": [
        "### check accuracy of your model using RMSE..\n",
        "\n",
        "from sklearn.metrics import mean_squared_error"
      ]
    },
    {
      "cell_type": "code",
      "execution_count": null,
      "id": "496e6da4",
      "metadata": {
        "id": "496e6da4"
      },
      "outputs": [],
      "source": [
        "np.sqrt(mean_squared_error(df['actual_temp'],df['forecast_temp']))\n",
        "\n",
        "## why np.sqrt, bcz mean_squared_error gives square of error and then by calling np.sqrt we get actual error"
      ]
    },
    {
      "cell_type": "raw",
      "id": "b4645c99",
      "metadata": {
        "id": "b4645c99"
      },
      "source": [
        "we are getting error of 2.4 degree celsius every day, it means error of +-2.39 is going to happen in your prediction."
      ]
    },
    {
      "cell_type": "code",
      "execution_count": null,
      "id": "c0ab93ea",
      "metadata": {
        "id": "c0ab93ea"
      },
      "outputs": [],
      "source": []
    },
    {
      "cell_type": "code",
      "execution_count": null,
      "id": "5260b3c7",
      "metadata": {
        "id": "5260b3c7"
      },
      "outputs": [],
      "source": []
    },
    {
      "cell_type": "markdown",
      "id": "1731ef5f",
      "metadata": {
        "id": "1731ef5f"
      },
      "source": [
        "# 9.. Lets Build ARIMA Model.."
      ]
    },
    {
      "cell_type": "code",
      "execution_count": null,
      "id": "57a4b6df",
      "metadata": {
        "id": "57a4b6df"
      },
      "outputs": [],
      "source": [
        "from statsmodels.graphics.tsaplots import plot_acf,plot_pacf\n",
        "from statsmodels.graphics.api import qqplot"
      ]
    },
    {
      "cell_type": "code",
      "execution_count": null,
      "id": "5be01df9",
      "metadata": {
        "id": "5be01df9"
      },
      "outputs": [],
      "source": [
        "df.head(3)"
      ]
    },
    {
      "cell_type": "code",
      "execution_count": null,
      "id": "2a714293",
      "metadata": {
        "id": "2a714293"
      },
      "outputs": [],
      "source": [
        "plot_acf(df['actual_temp'])\n",
        "plt.show()\n",
        "## q-3"
      ]
    },
    {
      "cell_type": "code",
      "execution_count": null,
      "id": "772bba3c",
      "metadata": {
        "id": "772bba3c"
      },
      "outputs": [],
      "source": [
        "plot_pacf(df['actual_temp'])\n",
        "plt.show()\n",
        "## p-2"
      ]
    },
    {
      "cell_type": "code",
      "execution_count": null,
      "id": "3db7861d",
      "metadata": {
        "id": "3db7861d"
      },
      "outputs": [],
      "source": [
        "df.head(3)"
      ]
    },
    {
      "cell_type": "code",
      "execution_count": null,
      "id": "2c2c9182",
      "metadata": {
        "id": "2c2c9182"
      },
      "outputs": [],
      "source": [
        "df=df[['actual_temp']]"
      ]
    },
    {
      "cell_type": "code",
      "execution_count": null,
      "id": "8479fec4",
      "metadata": {
        "id": "8479fec4"
      },
      "outputs": [],
      "source": [
        "df.head(2)"
      ]
    },
    {
      "cell_type": "code",
      "execution_count": null,
      "id": "7ef21304",
      "metadata": {
        "id": "7ef21304"
      },
      "outputs": [],
      "source": [
        "df.shape"
      ]
    },
    {
      "cell_type": "code",
      "execution_count": null,
      "id": "5330823f",
      "metadata": {
        "id": "5330823f"
      },
      "outputs": [],
      "source": [
        "training_data=df[0:6000]\n",
        "testing_data=df[6000:]\n",
        "\n",
        "### create test data that is basically unseen to our model or which is basically is used for evalaution"
      ]
    },
    {
      "cell_type": "code",
      "execution_count": null,
      "id": "2665ca10",
      "metadata": {
        "id": "2665ca10"
      },
      "outputs": [],
      "source": []
    },
    {
      "cell_type": "code",
      "execution_count": null,
      "id": "133c9f87",
      "metadata": {
        "id": "133c9f87"
      },
      "outputs": [],
      "source": [
        "from statsmodels.tsa.arima_model import ARIMA"
      ]
    },
    {
      "cell_type": "code",
      "execution_count": null,
      "id": "78641483",
      "metadata": {
        "id": "78641483"
      },
      "outputs": [],
      "source": [
        "### arima= ARIMA(training_data,order=(p,d,q))\n",
        "\n",
        "arima=ARIMA(training_data,order=(2,1,3))"
      ]
    },
    {
      "cell_type": "code",
      "execution_count": null,
      "id": "678c53b1",
      "metadata": {
        "id": "678c53b1"
      },
      "outputs": [],
      "source": [
        "model=arima.fit()"
      ]
    },
    {
      "cell_type": "code",
      "execution_count": null,
      "id": "7e8463b4",
      "metadata": {
        "id": "7e8463b4"
      },
      "outputs": [],
      "source": [
        "## doing predictions..\n",
        "\n",
        "pred=model.forecast(steps=len(testing_data))[0]"
      ]
    },
    {
      "cell_type": "code",
      "execution_count": null,
      "id": "fa39dd79",
      "metadata": {
        "id": "fa39dd79"
      },
      "outputs": [],
      "source": [
        "pred"
      ]
    },
    {
      "cell_type": "code",
      "execution_count": null,
      "id": "dca51d7c",
      "metadata": {
        "id": "dca51d7c"
      },
      "outputs": [],
      "source": [
        "len(pred)"
      ]
    },
    {
      "cell_type": "code",
      "execution_count": null,
      "id": "01fe5dba",
      "metadata": {
        "id": "01fe5dba"
      },
      "outputs": [],
      "source": [
        "len(testing_data)"
      ]
    },
    {
      "cell_type": "code",
      "execution_count": null,
      "id": "cb4f3d68",
      "metadata": {
        "id": "cb4f3d68"
      },
      "outputs": [],
      "source": [
        "np.sqrt(mean_squared_error(testing_data,pred))"
      ]
    },
    {
      "cell_type": "code",
      "execution_count": null,
      "id": "3ce6534a",
      "metadata": {
        "id": "3ce6534a"
      },
      "outputs": [],
      "source": [
        "'''\n",
        "now u will see it is better than MA model that we have created having Error as (2.4 degree centigrade) \n",
        "has decreased to 1.5 which shows that arima model is much more good in such sceanario rather than Baseline \n",
        "\n",
        "'''"
      ]
    },
    {
      "cell_type": "code",
      "execution_count": null,
      "id": "128e0c4a",
      "metadata": {
        "id": "128e0c4a"
      },
      "outputs": [],
      "source": []
    },
    {
      "cell_type": "code",
      "execution_count": null,
      "id": "4b205ada",
      "metadata": {
        "id": "4b205ada"
      },
      "outputs": [],
      "source": []
    },
    {
      "cell_type": "code",
      "execution_count": null,
      "id": "1201640a",
      "metadata": {
        "id": "1201640a"
      },
      "outputs": [],
      "source": []
    },
    {
      "cell_type": "code",
      "execution_count": null,
      "id": "c7dd0b1e",
      "metadata": {
        "id": "c7dd0b1e"
      },
      "outputs": [],
      "source": []
    },
    {
      "cell_type": "markdown",
      "id": "9c57117e",
      "metadata": {
        "id": "9c57117e"
      },
      "source": [
        "# 10.. Lets do model Tuning or Hyperparameter Tuning.."
      ]
    },
    {
      "cell_type": "code",
      "execution_count": null,
      "id": "9df71088",
      "metadata": {
        "id": "9df71088"
      },
      "outputs": [],
      "source": [
        "#### now define hyper-para=meters \n",
        "\n",
        "p_values=range(0,4)\n",
        "d_values=range(0,3)\n",
        "q_values=range(0,4)\n"
      ]
    },
    {
      "cell_type": "code",
      "execution_count": null,
      "id": "17634681",
      "metadata": {
        "id": "17634681"
      },
      "outputs": [],
      "source": [
        "### so we are just trying to provide pairs of (p,d,q) & whichever pair will give me least error i will consider that pair, \n",
        "\n",
        "\n",
        "for p in p_values:\n",
        "    for d in d_values:\n",
        "        for q in q_values:\n",
        "            order=(p,d,q)\n",
        "            \n",
        "            train=df[0:6000]\n",
        "            test=df[6000:]\n",
        "            \n",
        "            predictions=[]\n",
        "            \n",
        "            ### now we have train & test data that we can pass to our algorithm\n",
        "            for i in range(len(test)):\n",
        "                try:\n",
        "                    arima=ARIMA(train,order)\n",
        "                    \n",
        "                    ## Role of disp(displacement) is to control the frequency of the output during the iterations. \n",
        "                    \n",
        "                    model=arima.fit(disp=0)\n",
        "                    pred_y=model.forecast()[0]\n",
        "                    predictions.append(pred_y)\n",
        "                    error=mean_squared_error(test,predictions)\n",
        "                    print('MSE is {} with order {}'.format(error,order))\n",
        "\n",
        "                except:\n",
        "                    continue\n",
        "                "
      ]
    },
    {
      "cell_type": "code",
      "execution_count": null,
      "id": "ebc1f63b",
      "metadata": {
        "id": "ebc1f63b"
      },
      "outputs": [],
      "source": []
    },
    {
      "cell_type": "code",
      "execution_count": null,
      "id": "73a15e2d",
      "metadata": {
        "id": "73a15e2d"
      },
      "outputs": [],
      "source": []
    },
    {
      "cell_type": "code",
      "execution_count": null,
      "id": "d891f366",
      "metadata": {
        "id": "d891f366"
      },
      "outputs": [],
      "source": []
    },
    {
      "cell_type": "code",
      "execution_count": null,
      "id": "606eb8aa",
      "metadata": {
        "id": "606eb8aa"
      },
      "outputs": [],
      "source": []
    },
    {
      "cell_type": "code",
      "execution_count": null,
      "id": "b93db401",
      "metadata": {
        "id": "b93db401"
      },
      "outputs": [],
      "source": []
    }
  ],
  "metadata": {
    "kernelspec": {
      "display_name": "Python 3",
      "language": "python",
      "name": "python3"
    },
    "language_info": {
      "codemirror_mode": {
        "name": "ipython",
        "version": 3
      },
      "file_extension": ".py",
      "mimetype": "text/x-python",
      "name": "python",
      "nbconvert_exporter": "python",
      "pygments_lexer": "ipython3",
      "version": "3.8.8"
    },
    "colab": {
      "provenance": [],
      "include_colab_link": true
    }
  },
  "nbformat": 4,
  "nbformat_minor": 5
}